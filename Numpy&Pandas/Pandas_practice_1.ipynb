{
 "cells": [
  {
   "cell_type": "code",
   "execution_count": 1,
   "id": "fb8a266b",
   "metadata": {},
   "outputs": [],
   "source": [
    "import pandas as pd\n",
    "import numpy as np"
   ]
  },
  {
   "cell_type": "code",
   "execution_count": 2,
   "id": "8d05d495",
   "metadata": {},
   "outputs": [
    {
     "name": "stdout",
     "output_type": "stream",
     "text": [
      "0     1.0\n",
      "1     3.0\n",
      "2     6.0\n",
      "3     NaN\n",
      "4    44.0\n",
      "5     2.0\n",
      "dtype: float64\n"
     ]
    }
   ],
   "source": [
    "s = pd.Series([1, 3, 6, np.nan, 44, 2])\n",
    "print(s)"
   ]
  },
  {
   "cell_type": "code",
   "execution_count": 4,
   "id": "5e6954d3",
   "metadata": {},
   "outputs": [
    {
     "name": "stdout",
     "output_type": "stream",
     "text": [
      "DatetimeIndex(['2023-12-15', '2023-12-16', '2023-12-17', '2023-12-18',\n",
      "               '2023-12-19', '2023-12-20'],\n",
      "              dtype='datetime64[ns]', freq='D')\n"
     ]
    }
   ],
   "source": [
    "dates = pd.date_range('20231215', periods = 6)\n",
    "print(dates)"
   ]
  },
  {
   "cell_type": "code",
   "execution_count": 9,
   "id": "494089a0",
   "metadata": {},
   "outputs": [
    {
     "name": "stdout",
     "output_type": "stream",
     "text": [
      "                   a         b         c         d\n",
      "2023-12-15 -0.429099 -0.690461  1.572268 -0.670863\n",
      "2023-12-16 -0.797189  0.065951 -0.503233  0.433399\n",
      "2023-12-17  0.700127 -0.832926  1.193888 -0.239439\n",
      "2023-12-18 -0.053006 -0.003827 -1.754899 -0.371093\n",
      "2023-12-19  1.470912 -1.112401  1.775572  1.395493\n",
      "2023-12-20  0.679810  0.900237 -0.503292  0.231602\n"
     ]
    }
   ],
   "source": [
    "df = pd.DataFrame(np.random.randn(6,4), index = dates, columns = ['a', 'b', 'c', 'd'])\n",
    "print(df)"
   ]
  },
  {
   "cell_type": "code",
   "execution_count": 10,
   "id": "f8fac0fc",
   "metadata": {},
   "outputs": [
    {
     "name": "stdout",
     "output_type": "stream",
     "text": [
      "   0  1   2   3\n",
      "0  0  1   2   3\n",
      "1  4  5   6   7\n",
      "2  8  9  10  11\n"
     ]
    }
   ],
   "source": [
    "df1 = pd.DataFrame(np.arange(12).reshape((3,4)))\n",
    "print(df1)"
   ]
  },
  {
   "cell_type": "code",
   "execution_count": 14,
   "id": "788dca5e",
   "metadata": {},
   "outputs": [
    {
     "name": "stdout",
     "output_type": "stream",
     "text": [
      "     A          B    C  D      E    F\n",
      "0  1.0 2023-12-15  1.0  3   test  foo\n",
      "1  1.0 2023-12-15  1.0  3  train  foo\n",
      "2  1.0 2023-12-15  1.0  3  power  foo\n",
      "3  1.0 2023-12-15  1.0  3    man  foo\n"
     ]
    }
   ],
   "source": [
    "df2 = pd.DataFrame({\n",
    "    'A':1.,\n",
    "    'B':pd.Timestamp('20231215'),\n",
    "    'C':pd.Series(1, index = list(range(4)), dtype = 'float32'),\n",
    "    'D':pd.array([3] * 4, dtype='int32'),\n",
    "    'E':pd.Categorical([\"test\", \"train\", \"power\", \"man\"]),\n",
    "    'F':'foo'\n",
    "})\n",
    "\n",
    "print(df2)"
   ]
  },
  {
   "cell_type": "code",
   "execution_count": 15,
   "id": "0e7307c3",
   "metadata": {},
   "outputs": [
    {
     "data": {
      "text/plain": [
       "Int64Index([0, 1, 2, 3], dtype='int64')"
      ]
     },
     "execution_count": 15,
     "metadata": {},
     "output_type": "execute_result"
    }
   ],
   "source": [
    "df2.index"
   ]
  },
  {
   "cell_type": "code",
   "execution_count": 17,
   "id": "0dfc3096",
   "metadata": {},
   "outputs": [
    {
     "data": {
      "text/plain": [
       "Index(['A', 'B', 'C', 'D', 'E', 'F'], dtype='object')"
      ]
     },
     "execution_count": 17,
     "metadata": {},
     "output_type": "execute_result"
    }
   ],
   "source": [
    "df2.columns"
   ]
  },
  {
   "cell_type": "code",
   "execution_count": 19,
   "id": "bc2a70fb",
   "metadata": {},
   "outputs": [
    {
     "data": {
      "text/plain": [
       "array([[1.0, Timestamp('2023-12-15 00:00:00'), 1.0, 3, 'test', 'foo'],\n",
       "       [1.0, Timestamp('2023-12-15 00:00:00'), 1.0, 3, 'train', 'foo'],\n",
       "       [1.0, Timestamp('2023-12-15 00:00:00'), 1.0, 3, 'power', 'foo'],\n",
       "       [1.0, Timestamp('2023-12-15 00:00:00'), 1.0, 3, 'man', 'foo']],\n",
       "      dtype=object)"
      ]
     },
     "execution_count": 19,
     "metadata": {},
     "output_type": "execute_result"
    }
   ],
   "source": [
    "df2.values"
   ]
  },
  {
   "cell_type": "code",
   "execution_count": 21,
   "id": "60f1e35d",
   "metadata": {},
   "outputs": [
    {
     "data": {
      "text/html": [
       "<div>\n",
       "<style scoped>\n",
       "    .dataframe tbody tr th:only-of-type {\n",
       "        vertical-align: middle;\n",
       "    }\n",
       "\n",
       "    .dataframe tbody tr th {\n",
       "        vertical-align: top;\n",
       "    }\n",
       "\n",
       "    .dataframe thead th {\n",
       "        text-align: right;\n",
       "    }\n",
       "</style>\n",
       "<table border=\"1\" class=\"dataframe\">\n",
       "  <thead>\n",
       "    <tr style=\"text-align: right;\">\n",
       "      <th></th>\n",
       "      <th>A</th>\n",
       "      <th>C</th>\n",
       "      <th>D</th>\n",
       "    </tr>\n",
       "  </thead>\n",
       "  <tbody>\n",
       "    <tr>\n",
       "      <th>count</th>\n",
       "      <td>4.0</td>\n",
       "      <td>4.0</td>\n",
       "      <td>4.0</td>\n",
       "    </tr>\n",
       "    <tr>\n",
       "      <th>mean</th>\n",
       "      <td>1.0</td>\n",
       "      <td>1.0</td>\n",
       "      <td>3.0</td>\n",
       "    </tr>\n",
       "    <tr>\n",
       "      <th>std</th>\n",
       "      <td>0.0</td>\n",
       "      <td>0.0</td>\n",
       "      <td>0.0</td>\n",
       "    </tr>\n",
       "    <tr>\n",
       "      <th>min</th>\n",
       "      <td>1.0</td>\n",
       "      <td>1.0</td>\n",
       "      <td>3.0</td>\n",
       "    </tr>\n",
       "    <tr>\n",
       "      <th>25%</th>\n",
       "      <td>1.0</td>\n",
       "      <td>1.0</td>\n",
       "      <td>3.0</td>\n",
       "    </tr>\n",
       "    <tr>\n",
       "      <th>50%</th>\n",
       "      <td>1.0</td>\n",
       "      <td>1.0</td>\n",
       "      <td>3.0</td>\n",
       "    </tr>\n",
       "    <tr>\n",
       "      <th>75%</th>\n",
       "      <td>1.0</td>\n",
       "      <td>1.0</td>\n",
       "      <td>3.0</td>\n",
       "    </tr>\n",
       "    <tr>\n",
       "      <th>max</th>\n",
       "      <td>1.0</td>\n",
       "      <td>1.0</td>\n",
       "      <td>3.0</td>\n",
       "    </tr>\n",
       "  </tbody>\n",
       "</table>\n",
       "</div>"
      ],
      "text/plain": [
       "         A    C    D\n",
       "count  4.0  4.0  4.0\n",
       "mean   1.0  1.0  3.0\n",
       "std    0.0  0.0  0.0\n",
       "min    1.0  1.0  3.0\n",
       "25%    1.0  1.0  3.0\n",
       "50%    1.0  1.0  3.0\n",
       "75%    1.0  1.0  3.0\n",
       "max    1.0  1.0  3.0"
      ]
     },
     "execution_count": 21,
     "metadata": {},
     "output_type": "execute_result"
    }
   ],
   "source": [
    "df2.describe()  #only consider number"
   ]
  },
  {
   "cell_type": "code",
   "execution_count": 22,
   "id": "5e9293d8",
   "metadata": {},
   "outputs": [
    {
     "data": {
      "text/html": [
       "<div>\n",
       "<style scoped>\n",
       "    .dataframe tbody tr th:only-of-type {\n",
       "        vertical-align: middle;\n",
       "    }\n",
       "\n",
       "    .dataframe tbody tr th {\n",
       "        vertical-align: top;\n",
       "    }\n",
       "\n",
       "    .dataframe thead th {\n",
       "        text-align: right;\n",
       "    }\n",
       "</style>\n",
       "<table border=\"1\" class=\"dataframe\">\n",
       "  <thead>\n",
       "    <tr style=\"text-align: right;\">\n",
       "      <th></th>\n",
       "      <th>0</th>\n",
       "      <th>1</th>\n",
       "      <th>2</th>\n",
       "      <th>3</th>\n",
       "    </tr>\n",
       "  </thead>\n",
       "  <tbody>\n",
       "    <tr>\n",
       "      <th>A</th>\n",
       "      <td>1.0</td>\n",
       "      <td>1.0</td>\n",
       "      <td>1.0</td>\n",
       "      <td>1.0</td>\n",
       "    </tr>\n",
       "    <tr>\n",
       "      <th>B</th>\n",
       "      <td>2023-12-15 00:00:00</td>\n",
       "      <td>2023-12-15 00:00:00</td>\n",
       "      <td>2023-12-15 00:00:00</td>\n",
       "      <td>2023-12-15 00:00:00</td>\n",
       "    </tr>\n",
       "    <tr>\n",
       "      <th>C</th>\n",
       "      <td>1.0</td>\n",
       "      <td>1.0</td>\n",
       "      <td>1.0</td>\n",
       "      <td>1.0</td>\n",
       "    </tr>\n",
       "    <tr>\n",
       "      <th>D</th>\n",
       "      <td>3</td>\n",
       "      <td>3</td>\n",
       "      <td>3</td>\n",
       "      <td>3</td>\n",
       "    </tr>\n",
       "    <tr>\n",
       "      <th>E</th>\n",
       "      <td>test</td>\n",
       "      <td>train</td>\n",
       "      <td>power</td>\n",
       "      <td>man</td>\n",
       "    </tr>\n",
       "    <tr>\n",
       "      <th>F</th>\n",
       "      <td>foo</td>\n",
       "      <td>foo</td>\n",
       "      <td>foo</td>\n",
       "      <td>foo</td>\n",
       "    </tr>\n",
       "  </tbody>\n",
       "</table>\n",
       "</div>"
      ],
      "text/plain": [
       "                     0                    1                    2  \\\n",
       "A                  1.0                  1.0                  1.0   \n",
       "B  2023-12-15 00:00:00  2023-12-15 00:00:00  2023-12-15 00:00:00   \n",
       "C                  1.0                  1.0                  1.0   \n",
       "D                    3                    3                    3   \n",
       "E                 test                train                power   \n",
       "F                  foo                  foo                  foo   \n",
       "\n",
       "                     3  \n",
       "A                  1.0  \n",
       "B  2023-12-15 00:00:00  \n",
       "C                  1.0  \n",
       "D                    3  \n",
       "E                  man  \n",
       "F                  foo  "
      ]
     },
     "execution_count": 22,
     "metadata": {},
     "output_type": "execute_result"
    }
   ],
   "source": [
    "df2.T  #pivot table"
   ]
  },
  {
   "cell_type": "code",
   "execution_count": 23,
   "id": "4ca83b77",
   "metadata": {},
   "outputs": [
    {
     "data": {
      "text/html": [
       "<div>\n",
       "<style scoped>\n",
       "    .dataframe tbody tr th:only-of-type {\n",
       "        vertical-align: middle;\n",
       "    }\n",
       "\n",
       "    .dataframe tbody tr th {\n",
       "        vertical-align: top;\n",
       "    }\n",
       "\n",
       "    .dataframe thead th {\n",
       "        text-align: right;\n",
       "    }\n",
       "</style>\n",
       "<table border=\"1\" class=\"dataframe\">\n",
       "  <thead>\n",
       "    <tr style=\"text-align: right;\">\n",
       "      <th></th>\n",
       "      <th>F</th>\n",
       "      <th>E</th>\n",
       "      <th>D</th>\n",
       "      <th>C</th>\n",
       "      <th>B</th>\n",
       "      <th>A</th>\n",
       "    </tr>\n",
       "  </thead>\n",
       "  <tbody>\n",
       "    <tr>\n",
       "      <th>0</th>\n",
       "      <td>foo</td>\n",
       "      <td>test</td>\n",
       "      <td>3</td>\n",
       "      <td>1.0</td>\n",
       "      <td>2023-12-15</td>\n",
       "      <td>1.0</td>\n",
       "    </tr>\n",
       "    <tr>\n",
       "      <th>1</th>\n",
       "      <td>foo</td>\n",
       "      <td>train</td>\n",
       "      <td>3</td>\n",
       "      <td>1.0</td>\n",
       "      <td>2023-12-15</td>\n",
       "      <td>1.0</td>\n",
       "    </tr>\n",
       "    <tr>\n",
       "      <th>2</th>\n",
       "      <td>foo</td>\n",
       "      <td>power</td>\n",
       "      <td>3</td>\n",
       "      <td>1.0</td>\n",
       "      <td>2023-12-15</td>\n",
       "      <td>1.0</td>\n",
       "    </tr>\n",
       "    <tr>\n",
       "      <th>3</th>\n",
       "      <td>foo</td>\n",
       "      <td>man</td>\n",
       "      <td>3</td>\n",
       "      <td>1.0</td>\n",
       "      <td>2023-12-15</td>\n",
       "      <td>1.0</td>\n",
       "    </tr>\n",
       "  </tbody>\n",
       "</table>\n",
       "</div>"
      ],
      "text/plain": [
       "     F      E  D    C          B    A\n",
       "0  foo   test  3  1.0 2023-12-15  1.0\n",
       "1  foo  train  3  1.0 2023-12-15  1.0\n",
       "2  foo  power  3  1.0 2023-12-15  1.0\n",
       "3  foo    man  3  1.0 2023-12-15  1.0"
      ]
     },
     "execution_count": 23,
     "metadata": {},
     "output_type": "execute_result"
    }
   ],
   "source": [
    "df2.sort_index(axis = 1, ascending = False)"
   ]
  },
  {
   "cell_type": "code",
   "execution_count": 24,
   "id": "8eec709d",
   "metadata": {},
   "outputs": [
    {
     "data": {
      "text/html": [
       "<div>\n",
       "<style scoped>\n",
       "    .dataframe tbody tr th:only-of-type {\n",
       "        vertical-align: middle;\n",
       "    }\n",
       "\n",
       "    .dataframe tbody tr th {\n",
       "        vertical-align: top;\n",
       "    }\n",
       "\n",
       "    .dataframe thead th {\n",
       "        text-align: right;\n",
       "    }\n",
       "</style>\n",
       "<table border=\"1\" class=\"dataframe\">\n",
       "  <thead>\n",
       "    <tr style=\"text-align: right;\">\n",
       "      <th></th>\n",
       "      <th>A</th>\n",
       "      <th>B</th>\n",
       "      <th>C</th>\n",
       "      <th>D</th>\n",
       "      <th>E</th>\n",
       "      <th>F</th>\n",
       "    </tr>\n",
       "  </thead>\n",
       "  <tbody>\n",
       "    <tr>\n",
       "      <th>3</th>\n",
       "      <td>1.0</td>\n",
       "      <td>2023-12-15</td>\n",
       "      <td>1.0</td>\n",
       "      <td>3</td>\n",
       "      <td>man</td>\n",
       "      <td>foo</td>\n",
       "    </tr>\n",
       "    <tr>\n",
       "      <th>2</th>\n",
       "      <td>1.0</td>\n",
       "      <td>2023-12-15</td>\n",
       "      <td>1.0</td>\n",
       "      <td>3</td>\n",
       "      <td>power</td>\n",
       "      <td>foo</td>\n",
       "    </tr>\n",
       "    <tr>\n",
       "      <th>1</th>\n",
       "      <td>1.0</td>\n",
       "      <td>2023-12-15</td>\n",
       "      <td>1.0</td>\n",
       "      <td>3</td>\n",
       "      <td>train</td>\n",
       "      <td>foo</td>\n",
       "    </tr>\n",
       "    <tr>\n",
       "      <th>0</th>\n",
       "      <td>1.0</td>\n",
       "      <td>2023-12-15</td>\n",
       "      <td>1.0</td>\n",
       "      <td>3</td>\n",
       "      <td>test</td>\n",
       "      <td>foo</td>\n",
       "    </tr>\n",
       "  </tbody>\n",
       "</table>\n",
       "</div>"
      ],
      "text/plain": [
       "     A          B    C  D      E    F\n",
       "3  1.0 2023-12-15  1.0  3    man  foo\n",
       "2  1.0 2023-12-15  1.0  3  power  foo\n",
       "1  1.0 2023-12-15  1.0  3  train  foo\n",
       "0  1.0 2023-12-15  1.0  3   test  foo"
      ]
     },
     "execution_count": 24,
     "metadata": {},
     "output_type": "execute_result"
    }
   ],
   "source": [
    "df2.sort_index(axis = 0, ascending = False)"
   ]
  },
  {
   "cell_type": "code",
   "execution_count": 28,
   "id": "698a2868",
   "metadata": {},
   "outputs": [
    {
     "data": {
      "text/html": [
       "<div>\n",
       "<style scoped>\n",
       "    .dataframe tbody tr th:only-of-type {\n",
       "        vertical-align: middle;\n",
       "    }\n",
       "\n",
       "    .dataframe tbody tr th {\n",
       "        vertical-align: top;\n",
       "    }\n",
       "\n",
       "    .dataframe thead th {\n",
       "        text-align: right;\n",
       "    }\n",
       "</style>\n",
       "<table border=\"1\" class=\"dataframe\">\n",
       "  <thead>\n",
       "    <tr style=\"text-align: right;\">\n",
       "      <th></th>\n",
       "      <th>A</th>\n",
       "      <th>B</th>\n",
       "      <th>C</th>\n",
       "      <th>D</th>\n",
       "      <th>E</th>\n",
       "      <th>F</th>\n",
       "    </tr>\n",
       "  </thead>\n",
       "  <tbody>\n",
       "    <tr>\n",
       "      <th>1</th>\n",
       "      <td>1.0</td>\n",
       "      <td>2023-12-15</td>\n",
       "      <td>1.0</td>\n",
       "      <td>3</td>\n",
       "      <td>train</td>\n",
       "      <td>foo</td>\n",
       "    </tr>\n",
       "    <tr>\n",
       "      <th>0</th>\n",
       "      <td>1.0</td>\n",
       "      <td>2023-12-15</td>\n",
       "      <td>1.0</td>\n",
       "      <td>3</td>\n",
       "      <td>test</td>\n",
       "      <td>foo</td>\n",
       "    </tr>\n",
       "    <tr>\n",
       "      <th>2</th>\n",
       "      <td>1.0</td>\n",
       "      <td>2023-12-15</td>\n",
       "      <td>1.0</td>\n",
       "      <td>3</td>\n",
       "      <td>power</td>\n",
       "      <td>foo</td>\n",
       "    </tr>\n",
       "    <tr>\n",
       "      <th>3</th>\n",
       "      <td>1.0</td>\n",
       "      <td>2023-12-15</td>\n",
       "      <td>1.0</td>\n",
       "      <td>3</td>\n",
       "      <td>man</td>\n",
       "      <td>foo</td>\n",
       "    </tr>\n",
       "  </tbody>\n",
       "</table>\n",
       "</div>"
      ],
      "text/plain": [
       "     A          B    C  D      E    F\n",
       "1  1.0 2023-12-15  1.0  3  train  foo\n",
       "0  1.0 2023-12-15  1.0  3   test  foo\n",
       "2  1.0 2023-12-15  1.0  3  power  foo\n",
       "3  1.0 2023-12-15  1.0  3    man  foo"
      ]
     },
     "execution_count": 28,
     "metadata": {},
     "output_type": "execute_result"
    }
   ],
   "source": [
    "df2.sort_values(by = 'E', ascending = False)"
   ]
  },
  {
   "cell_type": "markdown",
   "id": "a7c6155d",
   "metadata": {},
   "source": [
    "## Select data"
   ]
  },
  {
   "cell_type": "code",
   "execution_count": 29,
   "id": "ae090055",
   "metadata": {},
   "outputs": [
    {
     "name": "stdout",
     "output_type": "stream",
     "text": [
      "DatetimeIndex(['2023-12-15', '2023-12-16', '2023-12-17', '2023-12-18',\n",
      "               '2023-12-19', '2023-12-20'],\n",
      "              dtype='datetime64[ns]', freq='D')\n",
      "             A   B   C   D\n",
      "2023-12-15   0   1   2   3\n",
      "2023-12-16   4   5   6   7\n",
      "2023-12-17   8   9  10  11\n",
      "2023-12-18  12  13  14  15\n",
      "2023-12-19  16  17  18  19\n",
      "2023-12-20  20  21  22  23\n"
     ]
    }
   ],
   "source": [
    "dates = pd.date_range('20231215', periods = 6)\n",
    "df = pd.DataFrame(np.arange(24).reshape((6,4)), index = dates, columns = ['A','B','C','D'])\n",
    "\n",
    "print(dates)\n",
    "print(df)"
   ]
  },
  {
   "cell_type": "code",
   "execution_count": 31,
   "id": "e550a0da",
   "metadata": {},
   "outputs": [
    {
     "name": "stdout",
     "output_type": "stream",
     "text": [
      "2023-12-15     0\n",
      "2023-12-16     4\n",
      "2023-12-17     8\n",
      "2023-12-18    12\n",
      "2023-12-19    16\n",
      "2023-12-20    20\n",
      "Freq: D, Name: A, dtype: int64 2023-12-15     0\n",
      "2023-12-16     4\n",
      "2023-12-17     8\n",
      "2023-12-18    12\n",
      "2023-12-19    16\n",
      "2023-12-20    20\n",
      "Freq: D, Name: A, dtype: int64\n"
     ]
    }
   ],
   "source": [
    "print(df['A'], df.A)"
   ]
  },
  {
   "cell_type": "code",
   "execution_count": 32,
   "id": "b0030a63",
   "metadata": {},
   "outputs": [
    {
     "name": "stdout",
     "output_type": "stream",
     "text": [
      "            A  B   C   D\n",
      "2023-12-15  0  1   2   3\n",
      "2023-12-16  4  5   6   7\n",
      "2023-12-17  8  9  10  11\n"
     ]
    }
   ],
   "source": [
    "print(df[0:3])  # select by index"
   ]
  },
  {
   "cell_type": "code",
   "execution_count": 33,
   "id": "4a0ed78a",
   "metadata": {},
   "outputs": [
    {
     "name": "stdout",
     "output_type": "stream",
     "text": [
      "            A  B   C   D\n",
      "2023-12-15  0  1   2   3\n",
      "2023-12-16  4  5   6   7\n",
      "2023-12-17  8  9  10  11\n"
     ]
    }
   ],
   "source": [
    "print(df['2023-12-15':'2023-12-17'])  # select by keys"
   ]
  },
  {
   "cell_type": "code",
   "execution_count": 34,
   "id": "87d60795",
   "metadata": {},
   "outputs": [
    {
     "name": "stdout",
     "output_type": "stream",
     "text": [
      "A    0\n",
      "B    1\n",
      "C    2\n",
      "D    3\n",
      "Name: 2023-12-15 00:00:00, dtype: int64\n"
     ]
    }
   ],
   "source": [
    "print(df.loc['20231215'])  # select by label"
   ]
  },
  {
   "cell_type": "code",
   "execution_count": 36,
   "id": "943a0eeb",
   "metadata": {},
   "outputs": [
    {
     "name": "stdout",
     "output_type": "stream",
     "text": [
      "             A   B\n",
      "2023-12-15   0   1\n",
      "2023-12-16   4   5\n",
      "2023-12-17   8   9\n",
      "2023-12-18  12  13\n",
      "2023-12-19  16  17\n",
      "2023-12-20  20  21\n"
     ]
    }
   ],
   "source": [
    "print(df.loc[:, ['A','B']])  #select by label (rows and column)"
   ]
  },
  {
   "cell_type": "code",
   "execution_count": 37,
   "id": "5e615ac4",
   "metadata": {},
   "outputs": [
    {
     "name": "stdout",
     "output_type": "stream",
     "text": [
      "             B   C\n",
      "2023-12-18  13  14\n",
      "2023-12-19  17  18\n"
     ]
    }
   ],
   "source": [
    "print(df.iloc[3:5, 1:3])   #select by position"
   ]
  },
  {
   "cell_type": "code",
   "execution_count": 38,
   "id": "5c430525",
   "metadata": {},
   "outputs": [
    {
     "name": "stdout",
     "output_type": "stream",
     "text": [
      "             B   C\n",
      "2023-12-16   5   6\n",
      "2023-12-18  13  14\n",
      "2023-12-20  21  22\n"
     ]
    }
   ],
   "source": [
    "print(df.iloc[[1,3,5], 1:3])"
   ]
  },
  {
   "cell_type": "code",
   "execution_count": 39,
   "id": "a612a497",
   "metadata": {},
   "outputs": [
    {
     "name": "stdout",
     "output_type": "stream",
     "text": [
      "             A   B   C   D\n",
      "2023-12-18  12  13  14  15\n",
      "2023-12-19  16  17  18  19\n",
      "2023-12-20  20  21  22  23\n"
     ]
    }
   ],
   "source": [
    "print(df[df.A > 8])  # select by indexing"
   ]
  },
  {
   "cell_type": "code",
   "execution_count": 40,
   "id": "ed33f4f7",
   "metadata": {},
   "outputs": [
    {
     "name": "stdout",
     "output_type": "stream",
     "text": [
      "             A   B    C   D\n",
      "2023-12-15   0   1    2   3\n",
      "2023-12-16   4   5    6   7\n",
      "2023-12-17   8   9  111  11\n",
      "2023-12-18  12  13   14  15\n",
      "2023-12-19  16  17   18  19\n",
      "2023-12-20  20  21   22  23\n"
     ]
    }
   ],
   "source": [
    "df.iloc[2,2] = 111\n",
    "print(df)"
   ]
  },
  {
   "cell_type": "code",
   "execution_count": 42,
   "id": "4866be8d",
   "metadata": {},
   "outputs": [
    {
     "name": "stdout",
     "output_type": "stream",
     "text": [
      "            A   B    C   D\n",
      "2023-12-15  0   1    2   3\n",
      "2023-12-16  4   5    6   7\n",
      "2023-12-17  0   9  111  11\n",
      "2023-12-18  0  13   14  15\n",
      "2023-12-19  0  17   18  19\n",
      "2023-12-20  0  21   22  23\n"
     ]
    }
   ],
   "source": [
    "df.A[df.A > 4] = 0  # set column A's value to zero when A > 4\n",
    "print(df)"
   ]
  },
  {
   "cell_type": "code",
   "execution_count": 48,
   "id": "3907dbd2",
   "metadata": {},
   "outputs": [
    {
     "name": "stdout",
     "output_type": "stream",
     "text": [
      "            A   B    C   D         E\n",
      "2023-12-15  0   1    2   3  0.811844\n",
      "2023-12-16  4   5    6   7  0.941681\n",
      "2023-12-17  0   9  111  11  0.775118\n",
      "2023-12-18  0  13   14  15  0.965151\n",
      "2023-12-19  0  17   18  19  0.173785\n",
      "2023-12-20  0  21   22  23  0.063018\n"
     ]
    }
   ],
   "source": [
    "df['E'] = np.random.random(6)\n",
    "print(df)"
   ]
  },
  {
   "cell_type": "markdown",
   "id": "1f8c1d33",
   "metadata": {},
   "source": [
    "## Non-value"
   ]
  },
  {
   "cell_type": "code",
   "execution_count": 49,
   "id": "a8da3c79",
   "metadata": {},
   "outputs": [
    {
     "name": "stdout",
     "output_type": "stream",
     "text": [
      "            A     B      C   D         E\n",
      "2023-12-15  0   NaN    2.0   3  0.811844\n",
      "2023-12-16  4   5.0    NaN   7  0.941681\n",
      "2023-12-17  0   9.0  111.0  11  0.775118\n",
      "2023-12-18  0  13.0   14.0  15  0.965151\n",
      "2023-12-19  0  17.0   18.0  19  0.173785\n",
      "2023-12-20  0  21.0   22.0  23  0.063018\n"
     ]
    }
   ],
   "source": [
    "df.iloc[0,1] = np.nan\n",
    "df.iloc[1,2] = np.nan\n",
    "print(df)"
   ]
  },
  {
   "cell_type": "code",
   "execution_count": 50,
   "id": "cbebb6bc",
   "metadata": {},
   "outputs": [
    {
     "name": "stdout",
     "output_type": "stream",
     "text": [
      "            A     B      C   D         E\n",
      "2023-12-17  0   9.0  111.0  11  0.775118\n",
      "2023-12-18  0  13.0   14.0  15  0.965151\n",
      "2023-12-19  0  17.0   18.0  19  0.173785\n",
      "2023-12-20  0  21.0   22.0  23  0.063018\n"
     ]
    }
   ],
   "source": [
    "print(df.dropna(axis = 0, how = 'any'))   # how could be \"any\", 'All'"
   ]
  },
  {
   "cell_type": "code",
   "execution_count": 51,
   "id": "f738d681",
   "metadata": {},
   "outputs": [
    {
     "name": "stdout",
     "output_type": "stream",
     "text": [
      "            A   D         E\n",
      "2023-12-15  0   3  0.811844\n",
      "2023-12-16  4   7  0.941681\n",
      "2023-12-17  0  11  0.775118\n",
      "2023-12-18  0  15  0.965151\n",
      "2023-12-19  0  19  0.173785\n",
      "2023-12-20  0  23  0.063018\n"
     ]
    }
   ],
   "source": [
    "print(df.dropna(axis = 1, how = 'any'))   "
   ]
  },
  {
   "cell_type": "code",
   "execution_count": 52,
   "id": "629c693c",
   "metadata": {},
   "outputs": [
    {
     "name": "stdout",
     "output_type": "stream",
     "text": [
      "            A     B      C   D         E\n",
      "2023-12-15  0   0.0    2.0   3  0.811844\n",
      "2023-12-16  4   5.0    0.0   7  0.941681\n",
      "2023-12-17  0   9.0  111.0  11  0.775118\n",
      "2023-12-18  0  13.0   14.0  15  0.965151\n",
      "2023-12-19  0  17.0   18.0  19  0.173785\n",
      "2023-12-20  0  21.0   22.0  23  0.063018\n"
     ]
    }
   ],
   "source": [
    "print(df.fillna(value = 0))   set non-value to zero"
   ]
  },
  {
   "cell_type": "code",
   "execution_count": 53,
   "id": "7aa66410",
   "metadata": {},
   "outputs": [
    {
     "name": "stdout",
     "output_type": "stream",
     "text": [
      "                A      B      C      D      E\n",
      "2023-12-15  False   True  False  False  False\n",
      "2023-12-16  False  False   True  False  False\n",
      "2023-12-17  False  False  False  False  False\n",
      "2023-12-18  False  False  False  False  False\n",
      "2023-12-19  False  False  False  False  False\n",
      "2023-12-20  False  False  False  False  False\n"
     ]
    }
   ],
   "source": [
    "print(df.isnull())"
   ]
  },
  {
   "cell_type": "code",
   "execution_count": 54,
   "id": "7b16f5a5",
   "metadata": {},
   "outputs": [
    {
     "name": "stdout",
     "output_type": "stream",
     "text": [
      "True\n"
     ]
    }
   ],
   "source": [
    "print(np.any(df.isnull()) == True)"
   ]
  },
  {
   "cell_type": "markdown",
   "id": "22964c9b",
   "metadata": {},
   "source": [
    "## Combine DateFrame"
   ]
  },
  {
   "cell_type": "code",
   "execution_count": 56,
   "id": "f56696dc",
   "metadata": {},
   "outputs": [
    {
     "name": "stdout",
     "output_type": "stream",
     "text": [
      "     A    B    C    D\n",
      "0  0.0  0.0  0.0  0.0\n",
      "1  0.0  0.0  0.0  0.0\n",
      "2  0.0  0.0  0.0  0.0\n",
      "     A    B    C    D\n",
      "0  1.0  1.0  1.0  1.0\n",
      "1  1.0  1.0  1.0  1.0\n",
      "2  1.0  1.0  1.0  1.0\n",
      "     A    B    C    D\n",
      "0  2.0  2.0  2.0  2.0\n",
      "1  2.0  2.0  2.0  2.0\n",
      "2  2.0  2.0  2.0  2.0\n"
     ]
    }
   ],
   "source": [
    "df1 = pd.DataFrame(np.ones((3,4))*0, columns = ['A','B','C','D'])\n",
    "df2 = pd.DataFrame(np.ones((3,4))*1, columns = ['A','B','C','D'])\n",
    "df3 = pd.DataFrame(np.ones((3,4))*2, columns = ['A','B','C','D'])\n",
    "\n",
    "print(df1)\n",
    "print(df2)\n",
    "print(df3)"
   ]
  },
  {
   "cell_type": "code",
   "execution_count": 59,
   "id": "b5334452",
   "metadata": {},
   "outputs": [
    {
     "name": "stdout",
     "output_type": "stream",
     "text": [
      "     A    B    C    D\n",
      "0  0.0  0.0  0.0  0.0\n",
      "1  0.0  0.0  0.0  0.0\n",
      "2  0.0  0.0  0.0  0.0\n",
      "3  1.0  1.0  1.0  1.0\n",
      "4  1.0  1.0  1.0  1.0\n",
      "5  1.0  1.0  1.0  1.0\n",
      "6  2.0  2.0  2.0  2.0\n",
      "7  2.0  2.0  2.0  2.0\n",
      "8  2.0  2.0  2.0  2.0\n"
     ]
    }
   ],
   "source": [
    "# concatenating\n",
    "# method 1\n",
    "res = pd.concat([df1, df2, df3], axis = 0, ignore_index = True)\n",
    "print(res)"
   ]
  },
  {
   "cell_type": "code",
   "execution_count": 63,
   "id": "f42ec91e",
   "metadata": {},
   "outputs": [
    {
     "name": "stdout",
     "output_type": "stream",
     "text": [
      "     A    B    C    D\n",
      "1  0.0  0.0  0.0  0.0\n",
      "2  0.0  0.0  0.0  0.0\n",
      "3  0.0  0.0  0.0  0.0\n",
      "     B    C    D    E\n",
      "2  1.0  1.0  1.0  1.0\n",
      "3  1.0  1.0  1.0  1.0\n",
      "4  1.0  1.0  1.0  1.0\n"
     ]
    }
   ],
   "source": [
    "#join ('inner', 'outer')\n",
    "df1 = pd.DataFrame(np.ones((3,4))*0, columns = ['A','B','C','D'], index = [1, 2, 3])\n",
    "df2 = pd.DataFrame(np.ones((3,4))*1, columns = ['B','C','D','E'], index = [2, 3, 4])\n",
    "\n",
    "print(df1)\n",
    "print(df2)"
   ]
  },
  {
   "cell_type": "code",
   "execution_count": 64,
   "id": "2e3aaaa5",
   "metadata": {},
   "outputs": [
    {
     "name": "stdout",
     "output_type": "stream",
     "text": [
      "     A    B    C    D    E\n",
      "1  0.0  0.0  0.0  0.0  NaN\n",
      "2  0.0  0.0  0.0  0.0  NaN\n",
      "3  0.0  0.0  0.0  0.0  NaN\n",
      "2  NaN  1.0  1.0  1.0  1.0\n",
      "3  NaN  1.0  1.0  1.0  1.0\n",
      "4  NaN  1.0  1.0  1.0  1.0\n"
     ]
    }
   ],
   "source": [
    "res = pd.concat([df1, df2], join = 'outer')  #default outer join\n",
    "print(res)"
   ]
  },
  {
   "cell_type": "code",
   "execution_count": 66,
   "id": "ca491ddf",
   "metadata": {},
   "outputs": [
    {
     "name": "stdout",
     "output_type": "stream",
     "text": [
      "     B    C    D\n",
      "0  0.0  0.0  0.0\n",
      "1  0.0  0.0  0.0\n",
      "2  0.0  0.0  0.0\n",
      "3  1.0  1.0  1.0\n",
      "4  1.0  1.0  1.0\n",
      "5  1.0  1.0  1.0\n"
     ]
    }
   ],
   "source": [
    "res = pd.concat([df1, df2], join = 'inner', ignore_index = True)  # like SQL join\n",
    "print(res)"
   ]
  },
  {
   "cell_type": "code",
   "execution_count": 72,
   "id": "515984e5",
   "metadata": {},
   "outputs": [
    {
     "name": "stdout",
     "output_type": "stream",
     "text": [
      "     A    B    C    D    B    C    D    E\n",
      "1  0.0  0.0  0.0  0.0  NaN  NaN  NaN  NaN\n",
      "2  0.0  0.0  0.0  0.0  1.0  1.0  1.0  1.0\n",
      "3  0.0  0.0  0.0  0.0  1.0  1.0  1.0  1.0\n"
     ]
    }
   ],
   "source": [
    "res = pd.concat([df1, df2], axis = 1).reindex(df1.index)  #.reindex(df1.index) like left join in SQL\n",
    "\n",
    "print(res)"
   ]
  },
  {
   "cell_type": "markdown",
   "id": "fde78466",
   "metadata": {},
   "source": [
    "## Merge dataframe"
   ]
  },
  {
   "cell_type": "code",
   "execution_count": 76,
   "id": "9ad8f4e7",
   "metadata": {},
   "outputs": [
    {
     "name": "stdout",
     "output_type": "stream",
     "text": [
      "  key   A   B\n",
      "0  K0  A0  B0\n",
      "1  K1  A1  B1\n",
      "2  K3  A2  B2\n",
      "3  K4  A3  B3\n",
      "  key   C   D\n",
      "0  K0  C0  D0\n",
      "1  K1  C1  D1\n",
      "2  K3  C2  D2\n",
      "3  K4  C3  D3\n"
     ]
    }
   ],
   "source": [
    "left = pd.DataFrame({\n",
    "    'key':['K0','K1','K3','K4'],\n",
    "    'A':['A0','A1','A2','A3'],\n",
    "    'B':['B0','B1','B2','B3']\n",
    "})\n",
    "\n",
    "right = pd.DataFrame({\n",
    "    'key':['K0','K1','K3','K4'],\n",
    "    'C':['C0','C1','C2','C3'],\n",
    "    'D':['D0','D1','D2','D3']\n",
    "})\n",
    "\n",
    "print(left)\n",
    "print(right)"
   ]
  },
  {
   "cell_type": "code",
   "execution_count": 78,
   "id": "0504f5a0",
   "metadata": {},
   "outputs": [
    {
     "name": "stdout",
     "output_type": "stream",
     "text": [
      "  key   A   B   C   D\n",
      "0  K0  A0  B0  C0  D0\n",
      "1  K1  A1  B1  C1  D1\n",
      "2  K3  A2  B2  C2  D2\n",
      "3  K4  A3  B3  C3  D3\n"
     ]
    }
   ],
   "source": [
    "res = pd.merge(left, right, on = 'key')\n",
    "print(res)"
   ]
  },
  {
   "cell_type": "code",
   "execution_count": 85,
   "id": "d7586db6",
   "metadata": {},
   "outputs": [
    {
     "name": "stdout",
     "output_type": "stream",
     "text": [
      "  key1   A   B key2    C    D     _merge\n",
      "0   K0  A0  B0   K0   C0   D0       both\n",
      "1   K1  A1  B1   K1   C1   D1       both\n",
      "2   K2  A2  B2  NaN  NaN  NaN  left_only\n",
      "3   K3  A3  B3   K3   C2   D2       both\n"
     ]
    }
   ],
   "source": [
    "left = pd.DataFrame({\n",
    "    'key1':['K0','K1','K2','K3'],\n",
    "    'A':['A0','A1','A2','A3'],\n",
    "    'B':['B0','B1','B2','B3']\n",
    "})\n",
    "\n",
    "right = pd.DataFrame({\n",
    "    'key2':['K0','K1','K3','K5'],\n",
    "    'C':['C0','C1','C2','C3'],\n",
    "    'D':['D0','D1','D2','D3']\n",
    "})\n",
    "\n",
    "res = pd.merge(left, right, left_on='key1', right_on='key2', how = 'left', indicator = True)\n",
    "print(res)"
   ]
  },
  {
   "cell_type": "markdown",
   "id": "7023dab6",
   "metadata": {},
   "source": [
    "## matplotlib plots"
   ]
  },
  {
   "cell_type": "code",
   "execution_count": 86,
   "id": "d5d864bf",
   "metadata": {},
   "outputs": [],
   "source": [
    "import pandas as pd\n",
    "import numpy as np\n",
    "import matplotlib.pyplot as plt"
   ]
  },
  {
   "cell_type": "code",
   "execution_count": 89,
   "id": "e2606d82",
   "metadata": {},
   "outputs": [],
   "source": [
    "#Series\n",
    "data = pd.Series(np.random.randn(1000), index = np.arange(1000))\n",
    "data = data.cumsum()"
   ]
  },
  {
   "cell_type": "code",
   "execution_count": 88,
   "id": "e91c9dc0",
   "metadata": {},
   "outputs": [
    {
     "data": {
      "image/png": "[encoded data removed]",
      "text/plain": [
       "<Figure size 640x480 with 1 Axes>"
      ]
     },
     "metadata": {},
     "output_type": "display_data"
    }
   ],
   "source": [
    "data.plot()\n",
    "plt.show()"
   ]
  },
  {
   "cell_type": "code",
   "execution_count": 92,
   "id": "5702fa9a",
   "metadata": {},
   "outputs": [
    {
     "name": "stdout",
     "output_type": "stream",
     "text": [
      "            A          B         C          D\n",
      "0   -0.710732   0.368846  1.116096  -0.219914\n",
      "1    1.342708   0.891153  1.819150   1.123315\n",
      "2    1.477032   1.377951  1.022767   0.197355\n",
      "3    2.544798   0.193663  1.890024  -2.034162\n",
      "4    2.219688  -0.275659  3.634022  -1.956690\n",
      "..        ...        ...       ...        ...\n",
      "995  0.145422 -20.482766  3.032463 -46.266650\n",
      "996  0.456600 -20.542929  3.041873 -44.645047\n",
      "997 -1.059034 -21.083224  3.319581 -45.961868\n",
      "998 -0.577453 -20.475400  3.779337 -47.545025\n",
      "999 -0.526980 -19.749150  3.900930 -44.350891\n",
      "\n",
      "[1000 rows x 4 columns]\n"
     ]
    }
   ],
   "source": [
    "# DataFrame\n",
    "data = pd.DataFrame(np.random.randn(1000, 4), index = np.arange(1000), columns = list('ABCD'))\n",
    "\n",
    "data = data.cumsum()\n",
    "\n",
    "print(data)"
   ]
  },
  {
   "cell_type": "code",
   "execution_count": 93,
   "id": "1cae61ff",
   "metadata": {},
   "outputs": [
    {
     "data": {
      "image/png": "[encoded data removed]",
      "text/plain": [
       "<Figure size 640x480 with 1 Axes>"
      ]
     },
     "metadata": {},
     "output_type": "display_data"
    }
   ],
   "source": [
    "data.plot()\n",
    "plt.show()"
   ]
  },
  {
   "cell_type": "code",
   "execution_count": null,
   "id": "f6edff24",
   "metadata": {},
   "outputs": [],
   "source": []
  }
 ],
 "metadata": {
  "kernelspec": {
   "display_name": "Python 3 (ipykernel)",
   "language": "python",
   "name": "python3"
  },
  "language_info": {
   "codemirror_mode": {
    "name": "ipython",
    "version": 3
   },
   "file_extension": ".py",
   "mimetype": "text/x-python",
   "name": "python",
   "nbconvert_exporter": "python",
   "pygments_lexer": "ipython3",
   "version": "3.10.9"
  }
 },
 "nbformat": 4,
 "nbformat_minor": 5
}
