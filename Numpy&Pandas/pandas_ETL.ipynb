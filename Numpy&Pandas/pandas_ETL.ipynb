{
 "cells": [
  {
   "cell_type": "code",
   "id": "initial_id",
   "metadata": {
    "collapsed": true,
    "ExecuteTime": {
     "end_time": "2024-05-03T15:26:48.321744Z",
     "start_time": "2024-05-03T15:26:47.904593Z"
    }
   },
   "source": "import pandas as pd",
   "outputs": [],
   "execution_count": 1
  },
  {
   "metadata": {
    "ExecuteTime": {
     "end_time": "2024-05-03T15:40:55.072025Z",
     "start_time": "2024-05-03T15:40:55.064854Z"
    }
   },
   "cell_type": "code",
   "source": "df = pd.read_csv('/Users/steveyuan/Documents/github_files/DataAnalysisCamp/Numpy&Pandas/Ex_Files_ETL_Python_SQL/Exercise Files/Chapter_1/sample_data.csv')",
   "id": "d4690ac554260dc7",
   "outputs": [],
   "execution_count": 19
  },
  {
   "metadata": {
    "ExecuteTime": {
     "end_time": "2024-05-03T15:40:57.687163Z",
     "start_time": "2024-05-03T15:40:57.683409Z"
    }
   },
   "cell_type": "code",
   "source": "df.shape",
   "id": "62d5025d61b34cd2",
   "outputs": [
    {
     "data": {
      "text/plain": [
       "(200, 8)"
      ]
     },
     "execution_count": 20,
     "metadata": {},
     "output_type": "execute_result"
    }
   ],
   "execution_count": 20
  },
  {
   "metadata": {
    "ExecuteTime": {
     "end_time": "2024-05-03T15:41:00.428005Z",
     "start_time": "2024-05-03T15:41:00.416265Z"
    }
   },
   "cell_type": "code",
   "source": "df.head()",
   "id": "4a0e0aac9041074a",
   "outputs": [
    {
     "data": {
      "text/plain": [
       "             Name                        Email                 Phone  \\\n",
       "0       Lisa West         andrew23@example.com         (465)852-8470   \n",
       "1      Jason Cole        kenneth05@example.net            7783540568   \n",
       "2     Juan Crosby          zbarnes@example.org   (676)328-6244x05295   \n",
       "3      April Ball  michaelmckinney@example.com  +1-633-685-4901x2113   \n",
       "4  Donald Jackson        peterdean@example.com          779-437-7643   \n",
       "\n",
       "                                             Address           City  \\\n",
       "0                   Unit 5183 Box 8914\\nDPO AP 26775      Perezfort   \n",
       "1  73784 Kenneth Stream Apt. 200\\nFitzgeraldshire...    Port Andrea   \n",
       "2          0580 Mary Row\\nLake Vanessabury, GA 81529    Johnborough   \n",
       "3  6215 Hensley Pass Apt. 136\\nSouth Patricia, MN...       New Eric   \n",
       "4     156 Macdonald Alley\\nWest Scottmouth, MA 82872  Alyssaborough   \n",
       "\n",
       "        Country Date of Birth   Salary  \n",
       "0      Honduras    2001-08-05  83302.0  \n",
       "1       Bolivia    2012-12-04  31035.0  \n",
       "2  South Africa    1921-02-02  60226.0  \n",
       "3        Greece    2023-05-08  52502.0  \n",
       "4       Namibia    2019-03-07  38687.0  "
      ],
      "text/html": [
       "<div>\n",
       "<style scoped>\n",
       "    .dataframe tbody tr th:only-of-type {\n",
       "        vertical-align: middle;\n",
       "    }\n",
       "\n",
       "    .dataframe tbody tr th {\n",
       "        vertical-align: top;\n",
       "    }\n",
       "\n",
       "    .dataframe thead th {\n",
       "        text-align: right;\n",
       "    }\n",
       "</style>\n",
       "<table border=\"1\" class=\"dataframe\">\n",
       "  <thead>\n",
       "    <tr style=\"text-align: right;\">\n",
       "      <th></th>\n",
       "      <th>Name</th>\n",
       "      <th>Email</th>\n",
       "      <th>Phone</th>\n",
       "      <th>Address</th>\n",
       "      <th>City</th>\n",
       "      <th>Country</th>\n",
       "      <th>Date of Birth</th>\n",
       "      <th>Salary</th>\n",
       "    </tr>\n",
       "  </thead>\n",
       "  <tbody>\n",
       "    <tr>\n",
       "      <th>0</th>\n",
       "      <td>Lisa West</td>\n",
       "      <td>andrew23@example.com</td>\n",
       "      <td>(465)852-8470</td>\n",
       "      <td>Unit 5183 Box 8914\\nDPO AP 26775</td>\n",
       "      <td>Perezfort</td>\n",
       "      <td>Honduras</td>\n",
       "      <td>2001-08-05</td>\n",
       "      <td>83302.0</td>\n",
       "    </tr>\n",
       "    <tr>\n",
       "      <th>1</th>\n",
       "      <td>Jason Cole</td>\n",
       "      <td>kenneth05@example.net</td>\n",
       "      <td>7783540568</td>\n",
       "      <td>73784 Kenneth Stream Apt. 200\\nFitzgeraldshire...</td>\n",
       "      <td>Port Andrea</td>\n",
       "      <td>Bolivia</td>\n",
       "      <td>2012-12-04</td>\n",
       "      <td>31035.0</td>\n",
       "    </tr>\n",
       "    <tr>\n",
       "      <th>2</th>\n",
       "      <td>Juan Crosby</td>\n",
       "      <td>zbarnes@example.org</td>\n",
       "      <td>(676)328-6244x05295</td>\n",
       "      <td>0580 Mary Row\\nLake Vanessabury, GA 81529</td>\n",
       "      <td>Johnborough</td>\n",
       "      <td>South Africa</td>\n",
       "      <td>1921-02-02</td>\n",
       "      <td>60226.0</td>\n",
       "    </tr>\n",
       "    <tr>\n",
       "      <th>3</th>\n",
       "      <td>April Ball</td>\n",
       "      <td>michaelmckinney@example.com</td>\n",
       "      <td>+1-633-685-4901x2113</td>\n",
       "      <td>6215 Hensley Pass Apt. 136\\nSouth Patricia, MN...</td>\n",
       "      <td>New Eric</td>\n",
       "      <td>Greece</td>\n",
       "      <td>2023-05-08</td>\n",
       "      <td>52502.0</td>\n",
       "    </tr>\n",
       "    <tr>\n",
       "      <th>4</th>\n",
       "      <td>Donald Jackson</td>\n",
       "      <td>peterdean@example.com</td>\n",
       "      <td>779-437-7643</td>\n",
       "      <td>156 Macdonald Alley\\nWest Scottmouth, MA 82872</td>\n",
       "      <td>Alyssaborough</td>\n",
       "      <td>Namibia</td>\n",
       "      <td>2019-03-07</td>\n",
       "      <td>38687.0</td>\n",
       "    </tr>\n",
       "  </tbody>\n",
       "</table>\n",
       "</div>"
      ]
     },
     "execution_count": 21,
     "metadata": {},
     "output_type": "execute_result"
    }
   ],
   "execution_count": 21
  },
  {
   "metadata": {
    "ExecuteTime": {
     "end_time": "2024-05-03T15:41:03.616736Z",
     "start_time": "2024-05-03T15:41:03.610147Z"
    }
   },
   "cell_type": "code",
   "source": "df.duplicated()",
   "id": "f4338d4e902df81a",
   "outputs": [
    {
     "data": {
      "text/plain": [
       "0      False\n",
       "1      False\n",
       "2      False\n",
       "3      False\n",
       "4      False\n",
       "       ...  \n",
       "195     True\n",
       "196     True\n",
       "197     True\n",
       "198     True\n",
       "199     True\n",
       "Length: 200, dtype: bool"
      ]
     },
     "execution_count": 22,
     "metadata": {},
     "output_type": "execute_result"
    }
   ],
   "execution_count": 22
  },
  {
   "metadata": {
    "ExecuteTime": {
     "end_time": "2024-05-03T15:31:38.363768Z",
     "start_time": "2024-05-03T15:31:38.352177Z"
    }
   },
   "cell_type": "code",
   "source": "df.tail()",
   "id": "bc1b72d50d36c348",
   "outputs": [
    {
     "data": {
      "text/plain": [
       "                  Name                      Email                 Phone  \\\n",
       "195     Willie Shelton     jamesdavis@example.net      277-426-9077x821   \n",
       "196  Deborah Nicholson     michelle15@example.net     954-765-9968x1900   \n",
       "197         Vanessa Wu  reginaldowens@example.com  +1-682-798-1566x9050   \n",
       "198        Robyn Allen         chad33@example.org      212-239-3934x599   \n",
       "199      Scott Stewart      valerie39@example.com          956.897.0540   \n",
       "\n",
       "                                               Address           City  \\\n",
       "195         2277 Kathryn Cliffs\\nDanielshire, VI 89502   East Michael   \n",
       "196    3179 Young Brooks Apt. 868\\nScottberg, MI 16700     Port Linda   \n",
       "197        1820 Denise Forks\\nEast Katieberg, IL 88289  Cassandraview   \n",
       "198  1162 Kathryn Extensions\\nEast Larryfurt, MP 70273      Bruceberg   \n",
       "199              228 Adrian Pine\\nNorth Sean, IL 20499  Alexandraside   \n",
       "\n",
       "         Country Date of Birth   Salary  \n",
       "195     Mongolia    2017-05-20  59788.0  \n",
       "196      Senegal    1963-07-25  61230.0  \n",
       "197       Israel    1929-01-18  70482.0  \n",
       "198         Iran    1941-05-17  73249.0  \n",
       "199  New Zealand    2019-09-30  81174.0  "
      ],
      "text/html": [
       "<div>\n",
       "<style scoped>\n",
       "    .dataframe tbody tr th:only-of-type {\n",
       "        vertical-align: middle;\n",
       "    }\n",
       "\n",
       "    .dataframe tbody tr th {\n",
       "        vertical-align: top;\n",
       "    }\n",
       "\n",
       "    .dataframe thead th {\n",
       "        text-align: right;\n",
       "    }\n",
       "</style>\n",
       "<table border=\"1\" class=\"dataframe\">\n",
       "  <thead>\n",
       "    <tr style=\"text-align: right;\">\n",
       "      <th></th>\n",
       "      <th>Name</th>\n",
       "      <th>Email</th>\n",
       "      <th>Phone</th>\n",
       "      <th>Address</th>\n",
       "      <th>City</th>\n",
       "      <th>Country</th>\n",
       "      <th>Date of Birth</th>\n",
       "      <th>Salary</th>\n",
       "    </tr>\n",
       "  </thead>\n",
       "  <tbody>\n",
       "    <tr>\n",
       "      <th>195</th>\n",
       "      <td>Willie Shelton</td>\n",
       "      <td>jamesdavis@example.net</td>\n",
       "      <td>277-426-9077x821</td>\n",
       "      <td>2277 Kathryn Cliffs\\nDanielshire, VI 89502</td>\n",
       "      <td>East Michael</td>\n",
       "      <td>Mongolia</td>\n",
       "      <td>2017-05-20</td>\n",
       "      <td>59788.0</td>\n",
       "    </tr>\n",
       "    <tr>\n",
       "      <th>196</th>\n",
       "      <td>Deborah Nicholson</td>\n",
       "      <td>michelle15@example.net</td>\n",
       "      <td>954-765-9968x1900</td>\n",
       "      <td>3179 Young Brooks Apt. 868\\nScottberg, MI 16700</td>\n",
       "      <td>Port Linda</td>\n",
       "      <td>Senegal</td>\n",
       "      <td>1963-07-25</td>\n",
       "      <td>61230.0</td>\n",
       "    </tr>\n",
       "    <tr>\n",
       "      <th>197</th>\n",
       "      <td>Vanessa Wu</td>\n",
       "      <td>reginaldowens@example.com</td>\n",
       "      <td>+1-682-798-1566x9050</td>\n",
       "      <td>1820 Denise Forks\\nEast Katieberg, IL 88289</td>\n",
       "      <td>Cassandraview</td>\n",
       "      <td>Israel</td>\n",
       "      <td>1929-01-18</td>\n",
       "      <td>70482.0</td>\n",
       "    </tr>\n",
       "    <tr>\n",
       "      <th>198</th>\n",
       "      <td>Robyn Allen</td>\n",
       "      <td>chad33@example.org</td>\n",
       "      <td>212-239-3934x599</td>\n",
       "      <td>1162 Kathryn Extensions\\nEast Larryfurt, MP 70273</td>\n",
       "      <td>Bruceberg</td>\n",
       "      <td>Iran</td>\n",
       "      <td>1941-05-17</td>\n",
       "      <td>73249.0</td>\n",
       "    </tr>\n",
       "    <tr>\n",
       "      <th>199</th>\n",
       "      <td>Scott Stewart</td>\n",
       "      <td>valerie39@example.com</td>\n",
       "      <td>956.897.0540</td>\n",
       "      <td>228 Adrian Pine\\nNorth Sean, IL 20499</td>\n",
       "      <td>Alexandraside</td>\n",
       "      <td>New Zealand</td>\n",
       "      <td>2019-09-30</td>\n",
       "      <td>81174.0</td>\n",
       "    </tr>\n",
       "  </tbody>\n",
       "</table>\n",
       "</div>"
      ]
     },
     "execution_count": 13,
     "metadata": {},
     "output_type": "execute_result"
    }
   ],
   "execution_count": 13
  },
  {
   "metadata": {
    "ExecuteTime": {
     "end_time": "2024-05-03T15:37:28.450643Z",
     "start_time": "2024-05-03T15:37:28.443630Z"
    }
   },
   "cell_type": "code",
   "source": [
    "#comfirm if there are any duplicates\n",
    "duplicates = df.duplicated()\n",
    "if duplicates.any():\n",
    "    print('There are duplicates in the DataFrame.')\n",
    "else:\n",
    "    print('There are no duplicates in the DataFrame.')\n",
    "df.shape"
   ],
   "id": "d3dd33712877d19d",
   "outputs": [
    {
     "name": "stdout",
     "output_type": "stream",
     "text": [
      "There are duplicates in the DataFrame.\n"
     ]
    },
    {
     "data": {
      "text/plain": [
       "(200, 8)"
      ]
     },
     "execution_count": 16,
     "metadata": {},
     "output_type": "execute_result"
    }
   ],
   "execution_count": 16
  },
  {
   "metadata": {
    "ExecuteTime": {
     "end_time": "2024-05-03T15:37:32.707372Z",
     "start_time": "2024-05-03T15:37:32.699804Z"
    }
   },
   "cell_type": "code",
   "source": [
    "#Remove the duplicates\n",
    "if duplicates.any():\n",
    "    df.drop_duplicates(inplace=True)\n",
    "    print('The duplicates were dropped.')\n",
    "else:\n",
    "    print('There are no duplicates in the DataFrame.')\n",
    "df.shape"
   ],
   "id": "f402d066f208f908",
   "outputs": [
    {
     "name": "stdout",
     "output_type": "stream",
     "text": [
      "The duplicates were dropped.\n"
     ]
    },
    {
     "data": {
      "text/plain": [
       "(172, 8)"
      ]
     },
     "execution_count": 17,
     "metadata": {},
     "output_type": "execute_result"
    }
   ],
   "execution_count": 17
  },
  {
   "metadata": {},
   "cell_type": "code",
   "outputs": [],
   "execution_count": null,
   "source": "",
   "id": "6c09a9444779dee0"
  }
 ],
 "metadata": {
  "kernelspec": {
   "display_name": "Python 3",
   "language": "python",
   "name": "python3"
  },
  "language_info": {
   "codemirror_mode": {
    "name": "ipython",
    "version": 2
   },
   "file_extension": ".py",
   "mimetype": "text/x-python",
   "name": "python",
   "nbconvert_exporter": "python",
   "pygments_lexer": "ipython2",
   "version": "2.7.6"
  }
 },
 "nbformat": 4,
 "nbformat_minor": 5
}
