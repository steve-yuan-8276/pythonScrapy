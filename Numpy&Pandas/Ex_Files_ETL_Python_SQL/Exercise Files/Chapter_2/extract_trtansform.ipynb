{
 "cells": [
  {
   "cell_type": "code",
   "id": "initial_id",
   "metadata": {
    "collapsed": true,
    "ExecuteTime": {
     "end_time": "2024-05-03T17:12:28.359740Z",
     "start_time": "2024-05-03T17:12:28.356241Z"
    }
   },
   "source": [
    "import numpy as np\n",
    "import pandas as pd\n",
    "import pymysql as db"
   ],
   "outputs": [],
   "execution_count": 47
  },
  {
   "metadata": {
    "ExecuteTime": {
     "end_time": "2024-05-03T16:20:10.927358Z",
     "start_time": "2024-05-03T16:20:10.725895Z"
    }
   },
   "cell_type": "code",
   "source": "employees = pd.read_excel('H+ Sport Employees.xlsx',sheet_name='Employees')",
   "id": "fa4e0464d712e24",
   "outputs": [],
   "execution_count": 27
  },
  {
   "metadata": {
    "ExecuteTime": {
     "end_time": "2024-05-03T16:13:49.386269Z",
     "start_time": "2024-05-03T16:13:49.372604Z"
    }
   },
   "cell_type": "code",
   "source": "employees.head()",
   "id": "6f03cdab111c464f",
   "outputs": [
    {
     "data": {
      "text/plain": [
       "      Employee Name Building Department     Status  Hire Date Month  Years  \\\n",
       "0        Page, Lisa     West        ADC  Full Time 1999-01-11   Jan     25   \n",
       "1    Taylor, Hector     West        ADC  Half-Time 2011-02-21   Feb     12   \n",
       "2  Dawson, Jonathan     West        ADC   Contract 2007-03-06   Mar     16   \n",
       "3      Duran, Brian     Taft        ADC     Hourly 2012-08-30   Aug     11   \n",
       "4      Weber, Larry   Watson        ADC  Full Time 2007-12-31   Dec     16   \n",
       "\n",
       "  Benefits  Salary  Job Rating  New Salary  Tax Rate  0.0291  \n",
       "0      DMR   24550           1         NaN       NaN     NaN  \n",
       "1       DM   26795           4         NaN       NaN     NaN  \n",
       "2      NaN   42540           5         NaN       NaN     NaN  \n",
       "3      NaN   35680           2         NaN       NaN     NaN  \n",
       "4        M   72830           2         NaN       NaN     NaN  "
      ],
      "text/html": [
       "<div>\n",
       "<style scoped>\n",
       "    .dataframe tbody tr th:only-of-type {\n",
       "        vertical-align: middle;\n",
       "    }\n",
       "\n",
       "    .dataframe tbody tr th {\n",
       "        vertical-align: top;\n",
       "    }\n",
       "\n",
       "    .dataframe thead th {\n",
       "        text-align: right;\n",
       "    }\n",
       "</style>\n",
       "<table border=\"1\" class=\"dataframe\">\n",
       "  <thead>\n",
       "    <tr style=\"text-align: right;\">\n",
       "      <th></th>\n",
       "      <th>Employee Name</th>\n",
       "      <th>Building</th>\n",
       "      <th>Department</th>\n",
       "      <th>Status</th>\n",
       "      <th>Hire Date</th>\n",
       "      <th>Month</th>\n",
       "      <th>Years</th>\n",
       "      <th>Benefits</th>\n",
       "      <th>Salary</th>\n",
       "      <th>Job Rating</th>\n",
       "      <th>New Salary</th>\n",
       "      <th>Tax Rate</th>\n",
       "      <th>0.0291</th>\n",
       "    </tr>\n",
       "  </thead>\n",
       "  <tbody>\n",
       "    <tr>\n",
       "      <th>0</th>\n",
       "      <td>Page, Lisa</td>\n",
       "      <td>West</td>\n",
       "      <td>ADC</td>\n",
       "      <td>Full Time</td>\n",
       "      <td>1999-01-11</td>\n",
       "      <td>Jan</td>\n",
       "      <td>25</td>\n",
       "      <td>DMR</td>\n",
       "      <td>24550</td>\n",
       "      <td>1</td>\n",
       "      <td>NaN</td>\n",
       "      <td>NaN</td>\n",
       "      <td>NaN</td>\n",
       "    </tr>\n",
       "    <tr>\n",
       "      <th>1</th>\n",
       "      <td>Taylor, Hector</td>\n",
       "      <td>West</td>\n",
       "      <td>ADC</td>\n",
       "      <td>Half-Time</td>\n",
       "      <td>2011-02-21</td>\n",
       "      <td>Feb</td>\n",
       "      <td>12</td>\n",
       "      <td>DM</td>\n",
       "      <td>26795</td>\n",
       "      <td>4</td>\n",
       "      <td>NaN</td>\n",
       "      <td>NaN</td>\n",
       "      <td>NaN</td>\n",
       "    </tr>\n",
       "    <tr>\n",
       "      <th>2</th>\n",
       "      <td>Dawson, Jonathan</td>\n",
       "      <td>West</td>\n",
       "      <td>ADC</td>\n",
       "      <td>Contract</td>\n",
       "      <td>2007-03-06</td>\n",
       "      <td>Mar</td>\n",
       "      <td>16</td>\n",
       "      <td>NaN</td>\n",
       "      <td>42540</td>\n",
       "      <td>5</td>\n",
       "      <td>NaN</td>\n",
       "      <td>NaN</td>\n",
       "      <td>NaN</td>\n",
       "    </tr>\n",
       "    <tr>\n",
       "      <th>3</th>\n",
       "      <td>Duran, Brian</td>\n",
       "      <td>Taft</td>\n",
       "      <td>ADC</td>\n",
       "      <td>Hourly</td>\n",
       "      <td>2012-08-30</td>\n",
       "      <td>Aug</td>\n",
       "      <td>11</td>\n",
       "      <td>NaN</td>\n",
       "      <td>35680</td>\n",
       "      <td>2</td>\n",
       "      <td>NaN</td>\n",
       "      <td>NaN</td>\n",
       "      <td>NaN</td>\n",
       "    </tr>\n",
       "    <tr>\n",
       "      <th>4</th>\n",
       "      <td>Weber, Larry</td>\n",
       "      <td>Watson</td>\n",
       "      <td>ADC</td>\n",
       "      <td>Full Time</td>\n",
       "      <td>2007-12-31</td>\n",
       "      <td>Dec</td>\n",
       "      <td>16</td>\n",
       "      <td>M</td>\n",
       "      <td>72830</td>\n",
       "      <td>2</td>\n",
       "      <td>NaN</td>\n",
       "      <td>NaN</td>\n",
       "      <td>NaN</td>\n",
       "    </tr>\n",
       "  </tbody>\n",
       "</table>\n",
       "</div>"
      ]
     },
     "execution_count": 20,
     "metadata": {},
     "output_type": "execute_result"
    }
   ],
   "execution_count": 20
  },
  {
   "metadata": {
    "ExecuteTime": {
     "end_time": "2024-05-03T16:14:04.148106Z",
     "start_time": "2024-05-03T16:14:04.143418Z"
    }
   },
   "cell_type": "code",
   "source": "employees.shape",
   "id": "c3203b1d2c30b579",
   "outputs": [
    {
     "data": {
      "text/plain": [
       "(741, 13)"
      ]
     },
     "execution_count": 21,
     "metadata": {},
     "output_type": "execute_result"
    }
   ],
   "execution_count": 21
  },
  {
   "metadata": {
    "ExecuteTime": {
     "end_time": "2024-05-03T16:20:17.734534Z",
     "start_time": "2024-05-03T16:20:17.729732Z"
    }
   },
   "cell_type": "code",
   "source": "employees.columns",
   "id": "ed7e9f5aba8f105c",
   "outputs": [
    {
     "data": {
      "text/plain": [
       "Index(['Employee Name',      'Building',    'Department',        'Status',\n",
       "           'Hire Date',         'Month',         'Years',      'Benefits',\n",
       "              'Salary',    'Job Rating',    'New Salary',      'Tax Rate',\n",
       "                0.0291],\n",
       "      dtype='object')"
      ]
     },
     "execution_count": 28,
     "metadata": {},
     "output_type": "execute_result"
    }
   ],
   "execution_count": 28
  },
  {
   "metadata": {
    "ExecuteTime": {
     "end_time": "2024-05-03T16:20:56.189541Z",
     "start_time": "2024-05-03T16:20:56.185050Z"
    }
   },
   "cell_type": "code",
   "source": [
    "remove_columns = ['Job Rating',    'New Salary',      'Tax Rate']\n",
    "employees.drop(remove_columns, axis=1, inplace=True)"
   ],
   "id": "9dbeca44f3ade1bc",
   "outputs": [],
   "execution_count": 30
  },
  {
   "metadata": {
    "ExecuteTime": {
     "end_time": "2024-05-03T16:20:59.326223Z",
     "start_time": "2024-05-03T16:20:59.321154Z"
    }
   },
   "cell_type": "code",
   "source": "employees.columns",
   "id": "3af97ca61ecb803f",
   "outputs": [
    {
     "data": {
      "text/plain": [
       "Index(['Employee Name',      'Building',    'Department',        'Status',\n",
       "           'Hire Date',         'Month',         'Years',      'Benefits',\n",
       "              'Salary',          0.0291],\n",
       "      dtype='object')"
      ]
     },
     "execution_count": 31,
     "metadata": {},
     "output_type": "execute_result"
    }
   ],
   "execution_count": 31
  },
  {
   "metadata": {
    "ExecuteTime": {
     "end_time": "2024-05-03T17:17:04.549473Z",
     "start_time": "2024-05-03T17:17:04.539248Z"
    }
   },
   "cell_type": "code",
   "source": "employees.isna",
   "id": "6403c935e223577f",
   "outputs": [
    {
     "data": {
      "text/plain": [
       "<bound method DataFrame.isna of         Employee Name Building            Department     Status  Hire Date  \\\n",
       "0          Page, Lisa     West                   ADC  Full Time 1999-01-11   \n",
       "1      Taylor, Hector     West                   ADC  Half-Time 2011-02-21   \n",
       "2    Dawson, Jonathan     West                   ADC   Contract 2007-03-06   \n",
       "3        Duran, Brian     Taft                   ADC     Hourly 2012-08-30   \n",
       "4        Weber, Larry   Watson                   ADC  Full Time 2007-12-31   \n",
       "..                ...      ...                   ...        ...        ...   \n",
       "736       Olsen, Ewan    North  Research/Development   Contract 2007-02-03   \n",
       "737        Green, Kim   Watson  Research/Development  Half-Time 2000-02-01   \n",
       "738  Bradshaw, Sheryl    North  Research/Development   Contract 2008-07-10   \n",
       "739      Riley, David     Taft  Research/Development  Full Time 2010-07-25   \n",
       "740    Flynn, Melissa   Watson  Research/Development     Hourly 2010-12-31   \n",
       "\n",
       "    Month  Years Benefits  Salary  0.0291  \n",
       "0     Jan     25      DMR   24550     NaN  \n",
       "1     Feb     12       DM   26795     NaN  \n",
       "2     Mar     16      NaN   42540     NaN  \n",
       "3     Aug     11      NaN   35680     NaN  \n",
       "4     Dec     16        M   72830     NaN  \n",
       "..    ...    ...      ...     ...     ...  \n",
       "736   Feb     16      NaN   60760     NaN  \n",
       "737   Feb     23      DMR   31250     NaN  \n",
       "738   Jul     15      NaN   64720     NaN  \n",
       "739   Jul     13      DMR   46680     NaN  \n",
       "740   Dec     13      NaN   19044     NaN  \n",
       "\n",
       "[741 rows x 10 columns]>"
      ]
     },
     "execution_count": 52,
     "metadata": {},
     "output_type": "execute_result"
    }
   ],
   "execution_count": 52
  },
  {
   "metadata": {
    "ExecuteTime": {
     "end_time": "2024-05-03T17:25:52.931435Z",
     "start_time": "2024-05-03T17:25:52.927796Z"
    }
   },
   "cell_type": "code",
   "source": [
    "# Replace NaN values with a default value \n",
    "employees['Benefits'] = employees['Benefits'].fillna('None')"
   ],
   "id": "db417443b0d1b6ff",
   "outputs": [],
   "execution_count": 55
  },
  {
   "metadata": {
    "ExecuteTime": {
     "end_time": "2024-05-03T18:08:05.245125Z",
     "start_time": "2024-05-03T18:08:05.240029Z"
    }
   },
   "cell_type": "code",
   "source": [
    "# connect the mysql database at localhost\n",
    "connection = db.connect(\n",
    "    host='localhost',\n",
    "    user='root',\n",
    "    password='ifeng@8276',\n",
    "    database='news',\n",
    "    cursorclass=db.cursors.DictCursor\n",
    ")"
   ],
   "id": "735275dd85997c19",
   "outputs": [],
   "execution_count": 61
  },
  {
   "metadata": {
    "ExecuteTime": {
     "end_time": "2024-05-03T17:15:28.578763Z",
     "start_time": "2024-05-03T17:15:28.564539Z"
    }
   },
   "cell_type": "code",
   "source": [
    "# Create a table named 'employees'\n",
    "with connection.cursor() as cursor:\n",
    "    create_table_query =\"\"\"\n",
    "    CREATE TABLE IF NOT EXISTS employees (\n",
    "        Employee_Name VARCHAR(100) NOT NULL,    \n",
    "        Building VARCHAR(30),    \n",
    "        Department VARCHAR(30),        \n",
    "        Status VARCHAR(30),\n",
    "        Hire_Date TIMESTAMP NOT NULL,         \n",
    "        Month VARCHAR(10),         \n",
    "        Years INT,      \n",
    "        Benefits VARCHAR(30),\n",
    "        Salary INT\n",
    "    );\n",
    "    \"\"\"\n",
    "    cursor.execute(create_table_query)\n",
    "    connection.commit()"
   ],
   "id": "52a5c5ba6978695e",
   "outputs": [],
   "execution_count": 50
  },
  {
   "metadata": {
    "ExecuteTime": {
     "end_time": "2024-05-03T17:20:17.929749Z",
     "start_time": "2024-05-03T17:20:17.727489Z"
    }
   },
   "cell_type": "code",
   "source": [
    "#Insert data into DataFrame\n",
    "with connection.cursor() as cursor:\n",
    "    # Correct the number of placeholders to match the columns listed\n",
    "    insert_query =\"\"\"\n",
    "    INSERT INTO employees (Employee_Name, Building, Department, Status, Hire_Date, Month, Years, Salary)\n",
    "    VALUES (%s, %s, %s, %s, %s, %s, %s, %s);\n",
    "    \"\"\"\n",
    "    for _, row in employees.iterrows():\n",
    "        # Ensure the tuple has exactly 9 elements, matching the placeholders\n",
    "        cursor.execute(insert_query, (row['Employee Name'], row['Building'], row['Department'], row['Status'], row['Hire Date'], row['Month'], row['Years'], row['Salary']))\n",
    "    # Commit the change to the database\n",
    "    connection.commit()\n"
   ],
   "id": "855a80683cb67729",
   "outputs": [],
   "execution_count": 54
  },
  {
   "metadata": {
    "ExecuteTime": {
     "end_time": "2024-05-03T18:08:11.517041Z",
     "start_time": "2024-05-03T18:08:11.510781Z"
    }
   },
   "cell_type": "code",
   "source": [
    "try:\n",
    "    with connection.cursor() as cursor:\n",
    "        # SQL 查询语句\n",
    "        sql = \"SELECT * FROM employees Limit 10\"\n",
    "        cursor.execute(sql)\n",
    "\n",
    "        # 获取查询结果\n",
    "        result = cursor.fetchall()\n",
    "        for row in result:\n",
    "            print(row)\n",
    "finally:\n",
    "    # 关闭数据库连接\n",
    "    connection.close()"
   ],
   "id": "117e22a62a8a318",
   "outputs": [
    {
     "name": "stdout",
     "output_type": "stream",
     "text": [
      "{'Employee_Name': 'Page, Lisa', 'Building': 'West', 'Department': 'ADC', 'Status': 'Full Time', 'Hire_Date': datetime.datetime(1999, 1, 11, 0, 0), 'Month': 'Jan', 'Years': 25, 'Benefits': 'DMR', 'Salary': 24550}\n",
      "{'Employee_Name': 'Taylor, Hector', 'Building': 'West', 'Department': 'ADC', 'Status': 'Half-Time', 'Hire_Date': datetime.datetime(2011, 2, 21, 0, 0), 'Month': 'Feb', 'Years': 12, 'Benefits': 'DM', 'Salary': 26795}\n",
      "{'Employee_Name': 'Page, Lisa', 'Building': 'West', 'Department': 'ADC', 'Status': 'Full Time', 'Hire_Date': datetime.datetime(1999, 1, 11, 0, 0), 'Month': 'Jan', 'Years': 25, 'Benefits': None, 'Salary': 24550}\n",
      "{'Employee_Name': 'Taylor, Hector', 'Building': 'West', 'Department': 'ADC', 'Status': 'Half-Time', 'Hire_Date': datetime.datetime(2011, 2, 21, 0, 0), 'Month': 'Feb', 'Years': 12, 'Benefits': None, 'Salary': 26795}\n",
      "{'Employee_Name': 'Dawson, Jonathan', 'Building': 'West', 'Department': 'ADC', 'Status': 'Contract', 'Hire_Date': datetime.datetime(2007, 3, 6, 0, 0), 'Month': 'Mar', 'Years': 16, 'Benefits': None, 'Salary': 42540}\n",
      "{'Employee_Name': 'Duran, Brian', 'Building': 'Taft', 'Department': 'ADC', 'Status': 'Hourly', 'Hire_Date': datetime.datetime(2012, 8, 30, 0, 0), 'Month': 'Aug', 'Years': 11, 'Benefits': None, 'Salary': 35680}\n",
      "{'Employee_Name': 'Weber, Larry', 'Building': 'Watson', 'Department': 'ADC', 'Status': 'Full Time', 'Hire_Date': datetime.datetime(2007, 12, 31, 0, 0), 'Month': 'Dec', 'Years': 16, 'Benefits': None, 'Salary': 72830}\n",
      "{'Employee_Name': 'Pratt, Erik', 'Building': 'North', 'Department': 'Training', 'Status': 'Full Time', 'Hire_Date': datetime.datetime(2006, 2, 3, 0, 0), 'Month': 'Feb', 'Years': 17, 'Benefits': None, 'Salary': 60830}\n",
      "{'Employee_Name': 'Oconnor, Kent', 'Building': 'Taft', 'Department': 'Training', 'Status': 'Half-Time', 'Hire_Date': datetime.datetime(1999, 2, 26, 0, 0), 'Month': 'Feb', 'Years': 24, 'Benefits': None, 'Salary': 15240}\n",
      "{'Employee_Name': 'Spencer, Boyd', 'Building': 'Main', 'Department': 'Training', 'Status': 'Contract', 'Hire_Date': datetime.datetime(2007, 4, 17, 0, 0), 'Month': 'Apr', 'Years': 16, 'Benefits': None, 'Salary': 66580}\n"
     ]
    }
   ],
   "execution_count": 62
  },
  {
   "metadata": {},
   "cell_type": "code",
   "outputs": [],
   "execution_count": null,
   "source": "",
   "id": "8b219d13eea292e1"
  }
 ],
 "metadata": {
  "kernelspec": {
   "display_name": "Python 3",
   "language": "python",
   "name": "python3"
  },
  "language_info": {
   "codemirror_mode": {
    "name": "ipython",
    "version": 2
   },
   "file_extension": ".py",
   "mimetype": "text/x-python",
   "name": "python",
   "nbconvert_exporter": "python",
   "pygments_lexer": "ipython2",
   "version": "2.7.6"
  }
 },
 "nbformat": 4,
 "nbformat_minor": 5
}
