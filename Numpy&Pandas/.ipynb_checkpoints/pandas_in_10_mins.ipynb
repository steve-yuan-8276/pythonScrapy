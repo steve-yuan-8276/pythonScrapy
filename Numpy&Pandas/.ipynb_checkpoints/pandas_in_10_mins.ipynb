{
 "cells": [
  {
   "cell_type": "code",
   "id": "initial_id",
   "metadata": {
    "collapsed": true,
    "ExecuteTime": {
     "end_time": "2024-04-16T01:14:24.079036Z",
     "start_time": "2024-04-16T01:14:21.744022Z"
    }
   },
   "source": [
    "import pandas as pd\n",
    "import numpy as np\n",
    "import matplotlib.pyplot as plt\n"
   ],
   "outputs": [],
   "execution_count": 1
  },
  {
   "metadata": {
    "ExecuteTime": {
     "end_time": "2024-04-16T01:16:26.556161Z",
     "start_time": "2024-04-16T01:16:26.546353Z"
    }
   },
   "cell_type": "code",
   "source": [
    "s = pd.Series([1,3,5,np.nan,6,8])\n",
    "print(s)"
   ],
   "id": "380e3398c74b7dc9",
   "outputs": [
    {
     "name": "stdout",
     "output_type": "stream",
     "text": [
      "0    1.0\n",
      "1    3.0\n",
      "2    5.0\n",
      "3    NaN\n",
      "4    6.0\n",
      "5    8.0\n",
      "dtype: float64\n"
     ]
    }
   ],
   "execution_count": 3
  },
  {
   "metadata": {
    "ExecuteTime": {
     "end_time": "2024-04-16T01:17:33.749717Z",
     "start_time": "2024-04-16T01:17:33.734135Z"
    }
   },
   "cell_type": "code",
   "source": [
    "dates = pd.date_range('1/1/2024', periods=6)\n",
    "print(dates)"
   ],
   "id": "366a34bac0aadd6",
   "outputs": [
    {
     "name": "stdout",
     "output_type": "stream",
     "text": [
      "DatetimeIndex(['2024-01-01', '2024-01-02', '2024-01-03', '2024-01-04',\n",
      "               '2024-01-05', '2024-01-06'],\n",
      "              dtype='datetime64[ns]', freq='D')\n"
     ]
    }
   ],
   "execution_count": 4
  },
  {
   "metadata": {
    "ExecuteTime": {
     "end_time": "2024-04-16T01:18:49.334810Z",
     "start_time": "2024-04-16T01:18:49.318313Z"
    }
   },
   "cell_type": "code",
   "source": [
    "df = pd.DataFrame(np.random.randn(6, 4), index=dates, columns=list('ABCD'))\n",
    "print(df)"
   ],
   "id": "9820f46cfd739931",
   "outputs": [
    {
     "name": "stdout",
     "output_type": "stream",
     "text": [
      "                   A         B         C         D\n",
      "2024-01-01 -1.257533  0.764114 -0.233305  0.208889\n",
      "2024-01-02 -0.595207 -0.226102  0.709726  1.440293\n",
      "2024-01-03 -0.093516  0.388709 -1.694091 -0.585127\n",
      "2024-01-04 -0.898971  1.097580 -0.801087  0.801388\n",
      "2024-01-05  0.918118 -0.770949  0.888545 -0.634569\n",
      "2024-01-06  0.683111  0.090129 -0.249690  0.564823\n"
     ]
    }
   ],
   "execution_count": 5
  },
  {
   "metadata": {
    "ExecuteTime": {
     "end_time": "2024-04-16T01:28:05.609450Z",
     "start_time": "2024-04-16T01:28:05.591898Z"
    }
   },
   "cell_type": "code",
   "source": [
    "df2 = pd.DataFrame({\n",
    "    'A': 1.,\n",
    "    'B': pd.Timestamp('20240101'),\n",
    "    'C': pd.Series(1, index=list(range(4)), dtype='float32'),\n",
    "    'D': np.array([3] * 4, dtype='int32'),\n",
    "    'E': pd.Categorical(['A', 'B', 'C', 'D']),  # Adjusted to match the length of the DataFrame\n",
    "    'F': 'foo'\n",
    "})\n",
    "\n",
    "print(df2)"
   ],
   "id": "2291e00d2d088ad6",
   "outputs": [
    {
     "name": "stdout",
     "output_type": "stream",
     "text": [
      "     A          B    C  D  E    F\n",
      "0  1.0 2024-01-01  1.0  3  A  foo\n",
      "1  1.0 2024-01-01  1.0  3  B  foo\n",
      "2  1.0 2024-01-01  1.0  3  C  foo\n",
      "3  1.0 2024-01-01  1.0  3  D  foo\n"
     ]
    }
   ],
   "execution_count": 9
  },
  {
   "metadata": {},
   "cell_type": "code",
   "outputs": [],
   "execution_count": null,
   "source": "",
   "id": "ddc48846f6a0cf10"
  }
 ],
 "metadata": {
  "kernelspec": {
   "display_name": "Python 3",
   "language": "python",
   "name": "python3"
  },
  "language_info": {
   "codemirror_mode": {
    "name": "ipython",
    "version": 2
   },
   "file_extension": ".py",
   "mimetype": "text/x-python",
   "name": "python",
   "nbconvert_exporter": "python",
   "pygments_lexer": "ipython2",
   "version": "2.7.6"
  }
 },
 "nbformat": 4,
 "nbformat_minor": 5
}
