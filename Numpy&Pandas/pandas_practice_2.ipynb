{
 "cells": [
  {
   "cell_type": "code",
   "execution_count": 1,
   "id": "c821ea35",
   "metadata": {},
   "outputs": [],
   "source": [
    "import pandas"
   ]
  },
  {
   "cell_type": "code",
   "execution_count": 6,
   "id": "feb64aae",
   "metadata": {},
   "outputs": [],
   "source": [
    "df = pandas.read_csv(\"/Users/steveyuan/Library/CloudStorage/Dropbox/Data Analysis Class_2023/Python/DiceJobs.csv\")"
   ]
  },
  {
   "cell_type": "code",
   "execution_count": 7,
   "id": "f3aa44fd",
   "metadata": {},
   "outputs": [
    {
     "name": "stdout",
     "output_type": "stream",
     "text": [
      "                                             Title          Location  \\\n",
      "0                           Tableau Sr. Consultant  Jacksonville, FL   \n",
      "1                                Tableau Developer    Bloomfield, CT   \n",
      "2                                Tableau Developer     Lafayette, LA   \n",
      "3  Digital Media Analyst - SAS, R, Python, Tableau      New York, NY   \n",
      "4                          Tableau Admin/Developer      Hartford, CT   \n",
      "\n",
      "                   Company                 Salary  Unnamed: 4  SearchURL  \\\n",
      "0              Exl Service  Depends On Experience       False        NaN   \n",
      "1                      CGI  Depends On Experience       False        NaN   \n",
      "2                      CGI  Depends On Experience       False        NaN   \n",
      "3  SAS, R, Python, Tableau                 Market       False        NaN   \n",
      "4            SmallArc, Inc  Depends On Experience       False        NaN   \n",
      "\n",
      "                                                 URL    SQL  Hadoop  Oracle  \\\n",
      "0  https://www.dice.com/jobs/detail/Tableau-Sr.-C...  False   False   False   \n",
      "1  https://www.dice.com/jobs/detail/Tableau-Devel...   True   False   False   \n",
      "2  https://www.dice.com/jobs/detail/Tableau-Devel...   True   False   False   \n",
      "3  https://www.dice.com/jobs/detail/Digital-Media...   True    True   False   \n",
      "4  https://www.dice.com/jobs/detail/Tableau-Admin...   True   False    True   \n",
      "\n",
      "   ...    SAS  Agile  Scrum  Statistics  PowerPoint  Python  Matlab  \\\n",
      "0  ...  False  False  False        True       False   False   False   \n",
      "1  ...  False   True   True       False       False   False   False   \n",
      "2  ...  False   True   True       False       False   False   False   \n",
      "3  ...   True  False  False        True       False   False   False   \n",
      "4  ...  False  False  False       False       False   False   False   \n",
      "\n",
      "   SQL Server   SSRS    ETL  \n",
      "0       False  False  False  \n",
      "1       False  False  False  \n",
      "2       False  False  False  \n",
      "3       False  False  False  \n",
      "4       False  False  False  \n",
      "\n",
      "[5 rows x 24 columns]\n"
     ]
    }
   ],
   "source": [
    "print(df.head())"
   ]
  },
  {
   "cell_type": "code",
   "execution_count": 8,
   "id": "699633e2",
   "metadata": {},
   "outputs": [
    {
     "name": "stdout",
     "output_type": "stream",
     "text": [
      "<class 'pandas.core.frame.DataFrame'>\n"
     ]
    }
   ],
   "source": [
    "print(type(df))"
   ]
  },
  {
   "cell_type": "code",
   "execution_count": 10,
   "id": "fd778de1",
   "metadata": {},
   "outputs": [
    {
     "name": "stdout",
     "output_type": "stream",
     "text": [
      "(730, 24)\n"
     ]
    }
   ],
   "source": [
    "print(df.shape)"
   ]
  },
  {
   "cell_type": "code",
   "execution_count": 13,
   "id": "531b6fd8",
   "metadata": {},
   "outputs": [
    {
     "name": "stdout",
     "output_type": "stream",
     "text": [
      "Title          object\n",
      "Location       object\n",
      "Company        object\n",
      "Salary         object\n",
      "Unnamed: 4       bool\n",
      "SearchURL     float64\n",
      "URL            object\n",
      "SQL              bool\n",
      "Hadoop           bool\n",
      "Oracle           bool\n",
      "Excel            bool\n",
      "Teradata         bool\n",
      "DB2              bool\n",
      "Qlik             bool\n",
      "SAS              bool\n",
      "Agile            bool\n",
      "Scrum            bool\n",
      "Statistics       bool\n",
      "PowerPoint       bool\n",
      "Python           bool\n",
      "Matlab           bool\n",
      "SQL Server       bool\n",
      "SSRS             bool\n",
      "ETL              bool\n",
      "dtype: object\n"
     ]
    }
   ],
   "source": [
    "print(df.dtypes)"
   ]
  },
  {
   "cell_type": "code",
   "execution_count": 14,
   "id": "a4cbfadf",
   "metadata": {},
   "outputs": [
    {
     "name": "stdout",
     "output_type": "stream",
     "text": [
      "<class 'pandas.core.frame.DataFrame'>\n",
      "RangeIndex: 730 entries, 0 to 729\n",
      "Data columns (total 24 columns):\n",
      " #   Column      Non-Null Count  Dtype  \n",
      "---  ------      --------------  -----  \n",
      " 0   Title       730 non-null    object \n",
      " 1   Location    730 non-null    object \n",
      " 2   Company     724 non-null    object \n",
      " 3   Salary      726 non-null    object \n",
      " 4   Unnamed: 4  730 non-null    bool   \n",
      " 5   SearchURL   0 non-null      float64\n",
      " 6   URL         730 non-null    object \n",
      " 7   SQL         730 non-null    bool   \n",
      " 8   Hadoop      730 non-null    bool   \n",
      " 9   Oracle      730 non-null    bool   \n",
      " 10  Excel       730 non-null    bool   \n",
      " 11  Teradata    730 non-null    bool   \n",
      " 12  DB2         730 non-null    bool   \n",
      " 13  Qlik        730 non-null    bool   \n",
      " 14  SAS         730 non-null    bool   \n",
      " 15  Agile       730 non-null    bool   \n",
      " 16  Scrum       730 non-null    bool   \n",
      " 17  Statistics  730 non-null    bool   \n",
      " 18  PowerPoint  730 non-null    bool   \n",
      " 19  Python      730 non-null    bool   \n",
      " 20  Matlab      730 non-null    bool   \n",
      " 21  SQL Server  730 non-null    bool   \n",
      " 22  SSRS        730 non-null    bool   \n",
      " 23  ETL         730 non-null    bool   \n",
      "dtypes: bool(18), float64(1), object(5)\n",
      "memory usage: 47.2+ KB\n",
      "None\n"
     ]
    }
   ],
   "source": [
    "print(df.info())"
   ]
  },
  {
   "cell_type": "code",
   "execution_count": 17,
   "id": "9ded89b5",
   "metadata": {},
   "outputs": [],
   "source": [
    "URL = df['URL']"
   ]
  },
  {
   "cell_type": "code",
   "execution_count": 18,
   "id": "a4286e43",
   "metadata": {},
   "outputs": [
    {
     "name": "stdout",
     "output_type": "stream",
     "text": [
      "0    https://www.dice.com/jobs/detail/Tableau-Sr.-C...\n",
      "1    https://www.dice.com/jobs/detail/Tableau-Devel...\n",
      "2    https://www.dice.com/jobs/detail/Tableau-Devel...\n",
      "3    https://www.dice.com/jobs/detail/Digital-Media...\n",
      "4    https://www.dice.com/jobs/detail/Tableau-Admin...\n",
      "Name: URL, dtype: object\n"
     ]
    }
   ],
   "source": [
    "print(URL.head())"
   ]
  },
  {
   "cell_type": "code",
   "execution_count": 20,
   "id": "cb5b9e7e",
   "metadata": {},
   "outputs": [],
   "source": [
    "multi = df[['URL','DB2', 'SQL']]"
   ]
  },
  {
   "cell_type": "code",
   "execution_count": 21,
   "id": "07231fd9",
   "metadata": {},
   "outputs": [
    {
     "name": "stdout",
     "output_type": "stream",
     "text": [
      "                                                   URL    DB2   SQL\n",
      "725  https://www.dice.com/jobs/detail/Tableau-Visua...  False  True\n",
      "726  https://www.dice.com/jobs/detail/Tableau-Visua...  False  True\n",
      "727  https://www.dice.com/jobs/detail/Tableau-Devel...  False  True\n",
      "728  https://www.dice.com/jobs/detail/BI-Reports-De...  False  True\n",
      "729  https://www.dice.com/jobs/detail/Business-Syst...  False  True\n"
     ]
    }
   ],
   "source": [
    "print(multi.tail())"
   ]
  },
  {
   "cell_type": "code",
   "execution_count": 22,
   "id": "8d3e474b",
   "metadata": {},
   "outputs": [],
   "source": [
    "smallRange = list(range(5))"
   ]
  },
  {
   "cell_type": "code",
   "execution_count": 24,
   "id": "8ec8d635",
   "metadata": {},
   "outputs": [],
   "source": [
    "subset = df.iloc[:,smallRange]"
   ]
  },
  {
   "cell_type": "code",
   "execution_count": 25,
   "id": "3a797a5c",
   "metadata": {},
   "outputs": [
    {
     "name": "stdout",
     "output_type": "stream",
     "text": [
      "                                             Title          Location  \\\n",
      "0                           Tableau Sr. Consultant  Jacksonville, FL   \n",
      "1                                Tableau Developer    Bloomfield, CT   \n",
      "2                                Tableau Developer     Lafayette, LA   \n",
      "3  Digital Media Analyst - SAS, R, Python, Tableau      New York, NY   \n",
      "4                          Tableau Admin/Developer      Hartford, CT   \n",
      "\n",
      "                   Company                 Salary  Unnamed: 4  \n",
      "0              Exl Service  Depends On Experience       False  \n",
      "1                      CGI  Depends On Experience       False  \n",
      "2                      CGI  Depends On Experience       False  \n",
      "3  SAS, R, Python, Tableau                 Market       False  \n",
      "4            SmallArc, Inc  Depends On Experience       False  \n"
     ]
    }
   ],
   "source": [
    "print(subset.head())"
   ]
  },
  {
   "cell_type": "code",
   "execution_count": 26,
   "id": "5460bb2d",
   "metadata": {},
   "outputs": [
    {
     "name": "stdout",
     "output_type": "stream",
     "text": [
      "Title         Tableau Sr. Consultant\n",
      "Location            Jacksonville, FL\n",
      "Company                  Exl Service\n",
      "Salary         Depends On Experience\n",
      "Unnamed: 4                     False\n",
      "Name: 0, dtype: object\n"
     ]
    }
   ],
   "source": [
    "print(subset.loc[0])"
   ]
  },
  {
   "cell_type": "code",
   "execution_count": 29,
   "id": "18c4557d",
   "metadata": {},
   "outputs": [],
   "source": [
    "last_row_number = subset.shape[0] - 1"
   ]
  },
  {
   "cell_type": "code",
   "execution_count": 30,
   "id": "b6c7aa6c",
   "metadata": {},
   "outputs": [
    {
     "name": "stdout",
     "output_type": "stream",
     "text": [
      "Title         Business Systems Analyst - SAS, Monarch, or Ta...\n",
      "Location                                           Falmouth, ME\n",
      "Company                                SAS, Monarch, or Tableau\n",
      "Salary                                             $85k - $100k\n",
      "Unnamed: 4                                                False\n",
      "Name: 729, dtype: object\n"
     ]
    }
   ],
   "source": [
    "print(subset.loc[last_row_number])"
   ]
  },
  {
   "cell_type": "code",
   "execution_count": 31,
   "id": "1df9c428",
   "metadata": {},
   "outputs": [
    {
     "name": "stdout",
     "output_type": "stream",
     "text": [
      "                                                 Title      Location  \\\n",
      "729  Business Systems Analyst - SAS, Monarch, or Ta...  Falmouth, ME   \n",
      "\n",
      "                      Company        Salary  Unnamed: 4  \n",
      "729  SAS, Monarch, or Tableau  $85k - $100k       False  \n"
     ]
    }
   ],
   "source": [
    "print(subset.tail(n = 1))"
   ]
  },
  {
   "cell_type": "code",
   "execution_count": 32,
   "id": "f43edf03",
   "metadata": {},
   "outputs": [
    {
     "name": "stdout",
     "output_type": "stream",
     "text": [
      "                                                 Title          Location  \\\n",
      "0                               Tableau Sr. Consultant  Jacksonville, FL   \n",
      "99                           Sharepoint Lead Developer      New York, NY   \n",
      "729  Business Systems Analyst - SAS, Monarch, or Ta...      Falmouth, ME   \n",
      "\n",
      "                      Company                 Salary  Unnamed: 4  \n",
      "0                 Exl Service  Depends On Experience       False  \n",
      "99   Columbia Technology Corp            Competitive       False  \n",
      "729  SAS, Monarch, or Tableau           $85k - $100k       False  \n"
     ]
    }
   ],
   "source": [
    "print(subset.loc[[0, 99, 729]])"
   ]
  },
  {
   "cell_type": "code",
   "execution_count": 34,
   "id": "07b80d36",
   "metadata": {},
   "outputs": [
    {
     "name": "stdout",
     "output_type": "stream",
     "text": [
      "                    Title          Location      Company  \\\n",
      "0  Tableau Sr. Consultant  Jacksonville, FL  Exl Service   \n",
      "0  Tableau Sr. Consultant  Jacksonville, FL  Exl Service   \n",
      "\n",
      "                  Salary  Unnamed: 4  \n",
      "0  Depends On Experience       False  \n",
      "0  Depends On Experience       False  \n"
     ]
    }
   ],
   "source": [
    "print(subset.iloc[[0, 0]])"
   ]
  },
  {
   "cell_type": "code",
   "execution_count": 39,
   "id": "2a5815c8",
   "metadata": {},
   "outputs": [
    {
     "name": "stdout",
     "output_type": "stream",
     "text": [
      "                                                 Title          Location  \\\n",
      "0                               Tableau Sr. Consultant  Jacksonville, FL   \n",
      "99                           Sharepoint Lead Developer      New York, NY   \n",
      "729  Business Systems Analyst - SAS, Monarch, or Ta...      Falmouth, ME   \n",
      "\n",
      "                      Company  \n",
      "0                 Exl Service  \n",
      "99   Columbia Technology Corp  \n",
      "729  SAS, Monarch, or Tableau  \n"
     ]
    }
   ],
   "source": [
    "# print(subset.iloc[[0,99,729],[0,1,2]])\n",
    "\n",
    "row_indices = subset.index[[0, 99, 729]]\n",
    "print(subset.loc[row_indices, ['Title', 'Location', 'Company']])"
   ]
  },
  {
   "cell_type": "code",
   "execution_count": 40,
   "id": "b6007ef8",
   "metadata": {},
   "outputs": [
    {
     "name": "stdout",
     "output_type": "stream",
     "text": [
      "                                             Title          Location  \\\n",
      "0                           Tableau Sr. Consultant  Jacksonville, FL   \n",
      "1                                Tableau Developer    Bloomfield, CT   \n",
      "2                                Tableau Developer     Lafayette, LA   \n",
      "3  Digital Media Analyst - SAS, R, Python, Tableau      New York, NY   \n",
      "4                          Tableau Admin/Developer      Hartford, CT   \n",
      "\n",
      "                   Company                 Salary  Unnamed: 4  SearchURL  \\\n",
      "0              Exl Service  Depends On Experience       False        NaN   \n",
      "1                      CGI  Depends On Experience       False        NaN   \n",
      "2                      CGI  Depends On Experience       False        NaN   \n",
      "3  SAS, R, Python, Tableau                 Market       False        NaN   \n",
      "4            SmallArc, Inc  Depends On Experience       False        NaN   \n",
      "\n",
      "                                                 URL    SQL  Hadoop  Oracle  \\\n",
      "0  https://www.dice.com/jobs/detail/Tableau-Sr.-C...  False   False   False   \n",
      "1  https://www.dice.com/jobs/detail/Tableau-Devel...   True   False   False   \n",
      "2  https://www.dice.com/jobs/detail/Tableau-Devel...   True   False   False   \n",
      "3  https://www.dice.com/jobs/detail/Digital-Media...   True    True   False   \n",
      "4  https://www.dice.com/jobs/detail/Tableau-Admin...   True   False    True   \n",
      "\n",
      "   ...    SAS  Agile  Scrum  Statistics  PowerPoint  Python  Matlab  \\\n",
      "0  ...  False  False  False        True       False   False   False   \n",
      "1  ...  False   True   True       False       False   False   False   \n",
      "2  ...  False   True   True       False       False   False   False   \n",
      "3  ...   True  False  False        True       False   False   False   \n",
      "4  ...  False  False  False       False       False   False   False   \n",
      "\n",
      "   SQL Server   SSRS    ETL  \n",
      "0       False  False  False  \n",
      "1       False  False  False  \n",
      "2       False  False  False  \n",
      "3       False  False  False  \n",
      "4       False  False  False  \n",
      "\n",
      "[5 rows x 24 columns]\n"
     ]
    }
   ],
   "source": [
    "print(df.head())"
   ]
  },
  {
   "cell_type": "code",
   "execution_count": null,
   "id": "d474d09b",
   "metadata": {},
   "outputs": [],
   "source": []
  }
 ],
 "metadata": {
  "kernelspec": {
   "display_name": "Python 3 (ipykernel)",
   "language": "python",
   "name": "python3"
  },
  "language_info": {
   "codemirror_mode": {
    "name": "ipython",
    "version": 3
   },
   "file_extension": ".py",
   "mimetype": "text/x-python",
   "name": "python",
   "nbconvert_exporter": "python",
   "pygments_lexer": "ipython3",
   "version": "3.10.9"
  }
 },
 "nbformat": 4,
 "nbformat_minor": 5
}
